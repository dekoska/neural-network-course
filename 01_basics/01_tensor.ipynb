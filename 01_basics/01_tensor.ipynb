{
  "nbformat": 4,
  "nbformat_minor": 0,
  "metadata": {
    "colab": {
      "provenance": [],
      "authorship_tag": "ABX9TyPqOevB6UGXih6jgCkOtBCV",
      "include_colab_link": true
    },
    "kernelspec": {
      "name": "python3",
      "display_name": "Python 3"
    },
    "language_info": {
      "name": "python"
    }
  },
  "cells": [
    {
      "cell_type": "markdown",
      "metadata": {
        "id": "view-in-github",
        "colab_type": "text"
      },
      "source": [
        "<a href=\"https://colab.research.google.com/github/dekoska/neural-network-course/blob/main/02_basics/01_tensor.ipynb\" target=\"_parent\"><img src=\"https://colab.research.google.com/assets/colab-badge.svg\" alt=\"Open In Colab\"/></a>"
      ]
    },
    {
      "cell_type": "code",
      "execution_count": 1,
      "metadata": {
        "id": "-MxK-HWij_E5"
      },
      "outputs": [],
      "source": [
        "import numpy as np"
      ]
    },
    {
      "cell_type": "code",
      "source": [
        "scalar = 3\n",
        "print(type(scalar))"
      ],
      "metadata": {
        "colab": {
          "base_uri": "https://localhost:8080/"
        },
        "id": "sTsWMFbakBsC",
        "outputId": "c60bee30-458f-4018-d687-d1572298cacd"
      },
      "execution_count": 2,
      "outputs": [
        {
          "output_type": "stream",
          "name": "stdout",
          "text": [
            "<class 'int'>\n"
          ]
        }
      ]
    },
    {
      "cell_type": "code",
      "source": [
        "vector = np.array([2,3,-6,5])\n",
        "print(vector)\n",
        "print(type(vector))\n",
        "print(f\"rozmiar wektora: {vector.shape}\")\n",
        "print(f\"typ danych wektora: {vector.dtype}\")\n",
        "print(f\"rzad: {vector.ndim}\")\n",
        "print(f\"dlugosc: {len(vector)}\")"
      ],
      "metadata": {
        "colab": {
          "base_uri": "https://localhost:8080/"
        },
        "id": "C0SM1DtgkHua",
        "outputId": "5aed7e7d-ecb8-4941-903b-d1581317d719"
      },
      "execution_count": 3,
      "outputs": [
        {
          "output_type": "stream",
          "name": "stdout",
          "text": [
            "[ 2  3 -6  5]\n",
            "<class 'numpy.ndarray'>\n",
            "rozmiar wektora: (4,)\n",
            "typ danych wektora: int64\n",
            "rzad: 1\n",
            "dlugosc: 4\n"
          ]
        }
      ]
    },
    {
      "cell_type": "code",
      "source": [
        "vector = np.array([2,4,-6,5], dtype='float')\n",
        "print(vector)\n",
        "print(f\"typ danych wektora: {vector.dtype}\")"
      ],
      "metadata": {
        "colab": {
          "base_uri": "https://localhost:8080/"
        },
        "id": "8UQ5WFXRki0P",
        "outputId": "e30d8ddd-f3a6-47be-b749-f11e9ef5fd8e"
      },
      "execution_count": 5,
      "outputs": [
        {
          "output_type": "stream",
          "name": "stdout",
          "text": [
            "[ 2.  4. -6.  5.]\n",
            "typ danych wektora: float64\n"
          ]
        }
      ]
    },
    {
      "cell_type": "code",
      "source": [
        "array = np.array([[2,6,3],\n",
        "                  [5,3,4],\n",
        "                  [4,2,1]], dtype='float')\n",
        "\n",
        "print(array)\n",
        "print(f\"rozmiar macierzy: {array.shape}\")\n",
        "print(f\"typ danych macierzy: {array.dtype}\")\n",
        "print(f\"rzad: {array.ndim}\")\n",
        "print(f\"dlugosc: {len(array)}\")"
      ],
      "metadata": {
        "colab": {
          "base_uri": "https://localhost:8080/"
        },
        "id": "udcKa7W_k8hG",
        "outputId": "d20216f6-8348-4380-d2c5-54036fc2528a"
      },
      "execution_count": 6,
      "outputs": [
        {
          "output_type": "stream",
          "name": "stdout",
          "text": [
            "[[2. 6. 3.]\n",
            " [5. 3. 4.]\n",
            " [4. 2. 1.]]\n",
            "rozmiar macierzy: (3, 3)\n",
            "typ danych macierzy: float64\n",
            "rzad: 2\n",
            "dlugosc: 3\n"
          ]
        }
      ]
    },
    {
      "cell_type": "code",
      "source": [
        "tensor = np.array([\n",
        "    [[1,2,3],\n",
        "     [4,5,6]],\n",
        "     [[7,8,9],\n",
        "      [3,7,3]]\n",
        "])\n",
        "\n",
        "print(tensor)\n",
        "print(f\"rozmiar macierzy: {tensor.shape}\")\n",
        "print(f\"typ danych macierzy: {tensor.dtype}\")\n",
        "print(f\"rzad: {tensor.ndim}\")\n",
        "print(f\"dlugosc: {len(tensor)}\")"
      ],
      "metadata": {
        "colab": {
          "base_uri": "https://localhost:8080/"
        },
        "id": "llwPQMeelZvs",
        "outputId": "1c6b8309-d52e-42b8-b032-986184321ff3"
      },
      "execution_count": 7,
      "outputs": [
        {
          "output_type": "stream",
          "name": "stdout",
          "text": [
            "[[[1 2 3]\n",
            "  [4 5 6]]\n",
            "\n",
            " [[7 8 9]\n",
            "  [3 7 3]]]\n",
            "rozmiar macierzy: (2, 2, 3)\n",
            "typ danych macierzy: int64\n",
            "rzad: 3\n",
            "dlugosc: 2\n"
          ]
        }
      ]
    },
    {
      "cell_type": "code",
      "source": [
        "tensor[0]"
      ],
      "metadata": {
        "colab": {
          "base_uri": "https://localhost:8080/"
        },
        "id": "JRU8bY9ImAxD",
        "outputId": "cb924f8f-582e-4087-ce82-06c3655b3dcc"
      },
      "execution_count": 8,
      "outputs": [
        {
          "output_type": "execute_result",
          "data": {
            "text/plain": [
              "array([[1, 2, 3],\n",
              "       [4, 5, 6]])"
            ]
          },
          "metadata": {},
          "execution_count": 8
        }
      ]
    }
  ]
}