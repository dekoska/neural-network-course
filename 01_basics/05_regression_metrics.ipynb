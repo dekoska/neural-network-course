{
  "nbformat": 4,
  "nbformat_minor": 0,
  "metadata": {
    "colab": {
      "provenance": [],
      "authorship_tag": "ABX9TyOT4cHar4jVnY2wdgRAZRMv",
      "include_colab_link": true
    },
    "kernelspec": {
      "name": "python3",
      "display_name": "Python 3"
    },
    "language_info": {
      "name": "python"
    }
  },
  "cells": [
    {
      "cell_type": "markdown",
      "metadata": {
        "id": "view-in-github",
        "colab_type": "text"
      },
      "source": [
        "<a href=\"https://colab.research.google.com/github/dekoska/neural-network-course/blob/main/01_basics/05_regression_metrics.ipynb\" target=\"_parent\"><img src=\"https://colab.research.google.com/assets/colab-badge.svg\" alt=\"Open In Colab\"/></a>"
      ]
    },
    {
      "cell_type": "code",
      "execution_count": 1,
      "metadata": {
        "id": "IZjh2Fc2sXMb"
      },
      "outputs": [],
      "source": [
        "import numpy as np\n",
        "import pandas as pd\n",
        "import plotly.express as px\n",
        "import plotly.graph_objects as go\n",
        "import tensorflow as tf"
      ]
    },
    {
      "cell_type": "code",
      "source": [
        "y_true = 100 + 20 * np.random.randn(50)\n",
        "y_true"
      ],
      "metadata": {
        "colab": {
          "base_uri": "https://localhost:8080/"
        },
        "id": "mUYC7erGsbqI",
        "outputId": "d6bf394b-3893-427e-a761-3c9aebf34525"
      },
      "execution_count": 2,
      "outputs": [
        {
          "output_type": "execute_result",
          "data": {
            "text/plain": [
              "array([ 86.35466165, 124.2805131 ,  72.51110361, 111.43746173,\n",
              "       136.52788865, 127.26590942,  67.94917821,  86.87798944,\n",
              "       132.10740424, 101.52311088,  60.62980723, 119.46594991,\n",
              "       104.17256791,  82.93669047,  78.52433603, 107.31301992,\n",
              "       110.87084724, 127.19788736,  77.03532608, 129.16063042,\n",
              "        77.76944049, 104.33881357, 103.53944067, 114.7177753 ,\n",
              "       120.28113442,  93.49681425,  96.19156188,  71.02664514,\n",
              "       117.60810196, 113.20063363,  67.3715558 ,  68.53410261,\n",
              "       100.44619658, 103.3386971 ,  78.41252591,  96.61284973,\n",
              "        66.44487183,  93.43810124, 105.05779267,  96.72371892,\n",
              "        91.52379981, 109.73833748,  92.03738998,  90.06280266,\n",
              "       112.8444111 ,  83.17612577, 100.92558636, 150.2192694 ,\n",
              "        77.89412158, 112.94680095])"
            ]
          },
          "metadata": {},
          "execution_count": 2
        }
      ]
    },
    {
      "cell_type": "code",
      "source": [
        "y_pred = y_true + 10 * np.random.randn(50)\n",
        "y_pred"
      ],
      "metadata": {
        "colab": {
          "base_uri": "https://localhost:8080/"
        },
        "id": "sSU2acdGstVY",
        "outputId": "36876aff-488d-43a3-e4e2-eeb2092a6375"
      },
      "execution_count": 3,
      "outputs": [
        {
          "output_type": "execute_result",
          "data": {
            "text/plain": [
              "array([ 94.37641588, 130.16880034,  68.37951704, 123.59277216,\n",
              "       130.59519268, 128.23276337,  60.24195083,  91.45271358,\n",
              "       138.09684019, 114.77786937,  71.67853075, 123.3720316 ,\n",
              "        88.09044259, 110.75024864,  85.27173649, 107.37514029,\n",
              "       108.90897258, 120.46546176,  78.44030486, 123.97993202,\n",
              "        79.09227316,  99.69486185, 109.70443572, 110.89696674,\n",
              "       107.96408866,  79.63862874, 107.48379522,  63.76953605,\n",
              "        95.18236214,  93.49487716,  91.56464628,  65.47067713,\n",
              "        85.36249721,  96.70024137,  73.3134414 ,  80.63944878,\n",
              "        76.35742406,  91.79230234, 101.14539786,  89.7840836 ,\n",
              "        84.92442174, 100.1045499 ,  86.80662394,  93.68363141,\n",
              "       105.96895092,  79.4776872 , 102.35349158, 146.21911093,\n",
              "        81.1017804 , 123.46707097])"
            ]
          },
          "metadata": {},
          "execution_count": 3
        }
      ]
    },
    {
      "cell_type": "code",
      "source": [
        "results = pd.DataFrame({'y_true': y_true, 'y_pred': y_pred})\n",
        "results.head()"
      ],
      "metadata": {
        "colab": {
          "base_uri": "https://localhost:8080/",
          "height": 206
        },
        "id": "6KzdhrVVszH0",
        "outputId": "45723fde-c6d0-4445-e2d0-e100a5b07b46"
      },
      "execution_count": 7,
      "outputs": [
        {
          "output_type": "execute_result",
          "data": {
            "text/plain": [
              "       y_true      y_pred\n",
              "0   86.354662   94.376416\n",
              "1  124.280513  130.168800\n",
              "2   72.511104   68.379517\n",
              "3  111.437462  123.592772\n",
              "4  136.527889  130.595193"
            ],
            "text/html": [
              "\n",
              "  <div id=\"df-28e85dcc-b653-49d4-ac76-893c5c654e70\" class=\"colab-df-container\">\n",
              "    <div>\n",
              "<style scoped>\n",
              "    .dataframe tbody tr th:only-of-type {\n",
              "        vertical-align: middle;\n",
              "    }\n",
              "\n",
              "    .dataframe tbody tr th {\n",
              "        vertical-align: top;\n",
              "    }\n",
              "\n",
              "    .dataframe thead th {\n",
              "        text-align: right;\n",
              "    }\n",
              "</style>\n",
              "<table border=\"1\" class=\"dataframe\">\n",
              "  <thead>\n",
              "    <tr style=\"text-align: right;\">\n",
              "      <th></th>\n",
              "      <th>y_true</th>\n",
              "      <th>y_pred</th>\n",
              "    </tr>\n",
              "  </thead>\n",
              "  <tbody>\n",
              "    <tr>\n",
              "      <th>0</th>\n",
              "      <td>86.354662</td>\n",
              "      <td>94.376416</td>\n",
              "    </tr>\n",
              "    <tr>\n",
              "      <th>1</th>\n",
              "      <td>124.280513</td>\n",
              "      <td>130.168800</td>\n",
              "    </tr>\n",
              "    <tr>\n",
              "      <th>2</th>\n",
              "      <td>72.511104</td>\n",
              "      <td>68.379517</td>\n",
              "    </tr>\n",
              "    <tr>\n",
              "      <th>3</th>\n",
              "      <td>111.437462</td>\n",
              "      <td>123.592772</td>\n",
              "    </tr>\n",
              "    <tr>\n",
              "      <th>4</th>\n",
              "      <td>136.527889</td>\n",
              "      <td>130.595193</td>\n",
              "    </tr>\n",
              "  </tbody>\n",
              "</table>\n",
              "</div>\n",
              "    <div class=\"colab-df-buttons\">\n",
              "\n",
              "  <div class=\"colab-df-container\">\n",
              "    <button class=\"colab-df-convert\" onclick=\"convertToInteractive('df-28e85dcc-b653-49d4-ac76-893c5c654e70')\"\n",
              "            title=\"Convert this dataframe to an interactive table.\"\n",
              "            style=\"display:none;\">\n",
              "\n",
              "  <svg xmlns=\"http://www.w3.org/2000/svg\" height=\"24px\" viewBox=\"0 -960 960 960\">\n",
              "    <path d=\"M120-120v-720h720v720H120Zm60-500h600v-160H180v160Zm220 220h160v-160H400v160Zm0 220h160v-160H400v160ZM180-400h160v-160H180v160Zm440 0h160v-160H620v160ZM180-180h160v-160H180v160Zm440 0h160v-160H620v160Z\"/>\n",
              "  </svg>\n",
              "    </button>\n",
              "\n",
              "  <style>\n",
              "    .colab-df-container {\n",
              "      display:flex;\n",
              "      gap: 12px;\n",
              "    }\n",
              "\n",
              "    .colab-df-convert {\n",
              "      background-color: #E8F0FE;\n",
              "      border: none;\n",
              "      border-radius: 50%;\n",
              "      cursor: pointer;\n",
              "      display: none;\n",
              "      fill: #1967D2;\n",
              "      height: 32px;\n",
              "      padding: 0 0 0 0;\n",
              "      width: 32px;\n",
              "    }\n",
              "\n",
              "    .colab-df-convert:hover {\n",
              "      background-color: #E2EBFA;\n",
              "      box-shadow: 0px 1px 2px rgba(60, 64, 67, 0.3), 0px 1px 3px 1px rgba(60, 64, 67, 0.15);\n",
              "      fill: #174EA6;\n",
              "    }\n",
              "\n",
              "    .colab-df-buttons div {\n",
              "      margin-bottom: 4px;\n",
              "    }\n",
              "\n",
              "    [theme=dark] .colab-df-convert {\n",
              "      background-color: #3B4455;\n",
              "      fill: #D2E3FC;\n",
              "    }\n",
              "\n",
              "    [theme=dark] .colab-df-convert:hover {\n",
              "      background-color: #434B5C;\n",
              "      box-shadow: 0px 1px 3px 1px rgba(0, 0, 0, 0.15);\n",
              "      filter: drop-shadow(0px 1px 2px rgba(0, 0, 0, 0.3));\n",
              "      fill: #FFFFFF;\n",
              "    }\n",
              "  </style>\n",
              "\n",
              "    <script>\n",
              "      const buttonEl =\n",
              "        document.querySelector('#df-28e85dcc-b653-49d4-ac76-893c5c654e70 button.colab-df-convert');\n",
              "      buttonEl.style.display =\n",
              "        google.colab.kernel.accessAllowed ? 'block' : 'none';\n",
              "\n",
              "      async function convertToInteractive(key) {\n",
              "        const element = document.querySelector('#df-28e85dcc-b653-49d4-ac76-893c5c654e70');\n",
              "        const dataTable =\n",
              "          await google.colab.kernel.invokeFunction('convertToInteractive',\n",
              "                                                    [key], {});\n",
              "        if (!dataTable) return;\n",
              "\n",
              "        const docLinkHtml = 'Like what you see? Visit the ' +\n",
              "          '<a target=\"_blank\" href=https://colab.research.google.com/notebooks/data_table.ipynb>data table notebook</a>'\n",
              "          + ' to learn more about interactive tables.';\n",
              "        element.innerHTML = '';\n",
              "        dataTable['output_type'] = 'display_data';\n",
              "        await google.colab.output.renderOutput(dataTable, element);\n",
              "        const docLink = document.createElement('div');\n",
              "        docLink.innerHTML = docLinkHtml;\n",
              "        element.appendChild(docLink);\n",
              "      }\n",
              "    </script>\n",
              "  </div>\n",
              "\n",
              "\n",
              "<div id=\"df-080caae6-46ee-45ff-99fc-41ebfc6d7443\">\n",
              "  <button class=\"colab-df-quickchart\" onclick=\"quickchart('df-080caae6-46ee-45ff-99fc-41ebfc6d7443')\"\n",
              "            title=\"Suggest charts\"\n",
              "            style=\"display:none;\">\n",
              "\n",
              "<svg xmlns=\"http://www.w3.org/2000/svg\" height=\"24px\"viewBox=\"0 0 24 24\"\n",
              "     width=\"24px\">\n",
              "    <g>\n",
              "        <path d=\"M19 3H5c-1.1 0-2 .9-2 2v14c0 1.1.9 2 2 2h14c1.1 0 2-.9 2-2V5c0-1.1-.9-2-2-2zM9 17H7v-7h2v7zm4 0h-2V7h2v10zm4 0h-2v-4h2v4z\"/>\n",
              "    </g>\n",
              "</svg>\n",
              "  </button>\n",
              "\n",
              "<style>\n",
              "  .colab-df-quickchart {\n",
              "      --bg-color: #E8F0FE;\n",
              "      --fill-color: #1967D2;\n",
              "      --hover-bg-color: #E2EBFA;\n",
              "      --hover-fill-color: #174EA6;\n",
              "      --disabled-fill-color: #AAA;\n",
              "      --disabled-bg-color: #DDD;\n",
              "  }\n",
              "\n",
              "  [theme=dark] .colab-df-quickchart {\n",
              "      --bg-color: #3B4455;\n",
              "      --fill-color: #D2E3FC;\n",
              "      --hover-bg-color: #434B5C;\n",
              "      --hover-fill-color: #FFFFFF;\n",
              "      --disabled-bg-color: #3B4455;\n",
              "      --disabled-fill-color: #666;\n",
              "  }\n",
              "\n",
              "  .colab-df-quickchart {\n",
              "    background-color: var(--bg-color);\n",
              "    border: none;\n",
              "    border-radius: 50%;\n",
              "    cursor: pointer;\n",
              "    display: none;\n",
              "    fill: var(--fill-color);\n",
              "    height: 32px;\n",
              "    padding: 0;\n",
              "    width: 32px;\n",
              "  }\n",
              "\n",
              "  .colab-df-quickchart:hover {\n",
              "    background-color: var(--hover-bg-color);\n",
              "    box-shadow: 0 1px 2px rgba(60, 64, 67, 0.3), 0 1px 3px 1px rgba(60, 64, 67, 0.15);\n",
              "    fill: var(--button-hover-fill-color);\n",
              "  }\n",
              "\n",
              "  .colab-df-quickchart-complete:disabled,\n",
              "  .colab-df-quickchart-complete:disabled:hover {\n",
              "    background-color: var(--disabled-bg-color);\n",
              "    fill: var(--disabled-fill-color);\n",
              "    box-shadow: none;\n",
              "  }\n",
              "\n",
              "  .colab-df-spinner {\n",
              "    border: 2px solid var(--fill-color);\n",
              "    border-color: transparent;\n",
              "    border-bottom-color: var(--fill-color);\n",
              "    animation:\n",
              "      spin 1s steps(1) infinite;\n",
              "  }\n",
              "\n",
              "  @keyframes spin {\n",
              "    0% {\n",
              "      border-color: transparent;\n",
              "      border-bottom-color: var(--fill-color);\n",
              "      border-left-color: var(--fill-color);\n",
              "    }\n",
              "    20% {\n",
              "      border-color: transparent;\n",
              "      border-left-color: var(--fill-color);\n",
              "      border-top-color: var(--fill-color);\n",
              "    }\n",
              "    30% {\n",
              "      border-color: transparent;\n",
              "      border-left-color: var(--fill-color);\n",
              "      border-top-color: var(--fill-color);\n",
              "      border-right-color: var(--fill-color);\n",
              "    }\n",
              "    40% {\n",
              "      border-color: transparent;\n",
              "      border-right-color: var(--fill-color);\n",
              "      border-top-color: var(--fill-color);\n",
              "    }\n",
              "    60% {\n",
              "      border-color: transparent;\n",
              "      border-right-color: var(--fill-color);\n",
              "    }\n",
              "    80% {\n",
              "      border-color: transparent;\n",
              "      border-right-color: var(--fill-color);\n",
              "      border-bottom-color: var(--fill-color);\n",
              "    }\n",
              "    90% {\n",
              "      border-color: transparent;\n",
              "      border-bottom-color: var(--fill-color);\n",
              "    }\n",
              "  }\n",
              "</style>\n",
              "\n",
              "  <script>\n",
              "    async function quickchart(key) {\n",
              "      const quickchartButtonEl =\n",
              "        document.querySelector('#' + key + ' button');\n",
              "      quickchartButtonEl.disabled = true;  // To prevent multiple clicks.\n",
              "      quickchartButtonEl.classList.add('colab-df-spinner');\n",
              "      try {\n",
              "        const charts = await google.colab.kernel.invokeFunction(\n",
              "            'suggestCharts', [key], {});\n",
              "      } catch (error) {\n",
              "        console.error('Error during call to suggestCharts:', error);\n",
              "      }\n",
              "      quickchartButtonEl.classList.remove('colab-df-spinner');\n",
              "      quickchartButtonEl.classList.add('colab-df-quickchart-complete');\n",
              "    }\n",
              "    (() => {\n",
              "      let quickchartButtonEl =\n",
              "        document.querySelector('#df-080caae6-46ee-45ff-99fc-41ebfc6d7443 button');\n",
              "      quickchartButtonEl.style.display =\n",
              "        google.colab.kernel.accessAllowed ? 'block' : 'none';\n",
              "    })();\n",
              "  </script>\n",
              "</div>\n",
              "\n",
              "    </div>\n",
              "  </div>\n"
            ],
            "application/vnd.google.colaboratory.intrinsic+json": {
              "type": "dataframe",
              "variable_name": "results",
              "summary": "{\n  \"name\": \"results\",\n  \"rows\": 50,\n  \"fields\": [\n    {\n      \"column\": \"y_true\",\n      \"properties\": {\n        \"dtype\": \"number\",\n        \"std\": 20.779232662761096,\n        \"min\": 60.62980723125152,\n        \"max\": 150.2192693968074,\n        \"num_unique_values\": 50,\n        \"samples\": [\n          82.93669047167963,\n          96.72371892252264,\n          67.37155580066522\n        ],\n        \"semantic_type\": \"\",\n        \"description\": \"\"\n      }\n    },\n    {\n      \"column\": \"y_pred\",\n      \"properties\": {\n        \"dtype\": \"number\",\n        \"std\": 20.50047886995275,\n        \"min\": 60.241950831918786,\n        \"max\": 146.2191109261355,\n        \"num_unique_values\": 50,\n        \"samples\": [\n          110.75024863809419,\n          89.7840836016904,\n          91.56464628106764\n        ],\n        \"semantic_type\": \"\",\n        \"description\": \"\"\n      }\n    }\n  ]\n}"
            }
          },
          "metadata": {},
          "execution_count": 7
        }
      ]
    },
    {
      "cell_type": "code",
      "source": [
        "results['error'] = results['y_true'] - results['y_pred']\n",
        "results.head()"
      ],
      "metadata": {
        "colab": {
          "base_uri": "https://localhost:8080/",
          "height": 206
        },
        "id": "sXtVKHD3tAmB",
        "outputId": "68f42ba4-31d6-489f-d921-70af81ce0ea3"
      },
      "execution_count": 8,
      "outputs": [
        {
          "output_type": "execute_result",
          "data": {
            "text/plain": [
              "       y_true      y_pred      error\n",
              "0   86.354662   94.376416  -8.021754\n",
              "1  124.280513  130.168800  -5.888287\n",
              "2   72.511104   68.379517   4.131587\n",
              "3  111.437462  123.592772 -12.155310\n",
              "4  136.527889  130.595193   5.932696"
            ],
            "text/html": [
              "\n",
              "  <div id=\"df-bb16f46f-ecc3-442e-85cc-b208243854a4\" class=\"colab-df-container\">\n",
              "    <div>\n",
              "<style scoped>\n",
              "    .dataframe tbody tr th:only-of-type {\n",
              "        vertical-align: middle;\n",
              "    }\n",
              "\n",
              "    .dataframe tbody tr th {\n",
              "        vertical-align: top;\n",
              "    }\n",
              "\n",
              "    .dataframe thead th {\n",
              "        text-align: right;\n",
              "    }\n",
              "</style>\n",
              "<table border=\"1\" class=\"dataframe\">\n",
              "  <thead>\n",
              "    <tr style=\"text-align: right;\">\n",
              "      <th></th>\n",
              "      <th>y_true</th>\n",
              "      <th>y_pred</th>\n",
              "      <th>error</th>\n",
              "    </tr>\n",
              "  </thead>\n",
              "  <tbody>\n",
              "    <tr>\n",
              "      <th>0</th>\n",
              "      <td>86.354662</td>\n",
              "      <td>94.376416</td>\n",
              "      <td>-8.021754</td>\n",
              "    </tr>\n",
              "    <tr>\n",
              "      <th>1</th>\n",
              "      <td>124.280513</td>\n",
              "      <td>130.168800</td>\n",
              "      <td>-5.888287</td>\n",
              "    </tr>\n",
              "    <tr>\n",
              "      <th>2</th>\n",
              "      <td>72.511104</td>\n",
              "      <td>68.379517</td>\n",
              "      <td>4.131587</td>\n",
              "    </tr>\n",
              "    <tr>\n",
              "      <th>3</th>\n",
              "      <td>111.437462</td>\n",
              "      <td>123.592772</td>\n",
              "      <td>-12.155310</td>\n",
              "    </tr>\n",
              "    <tr>\n",
              "      <th>4</th>\n",
              "      <td>136.527889</td>\n",
              "      <td>130.595193</td>\n",
              "      <td>5.932696</td>\n",
              "    </tr>\n",
              "  </tbody>\n",
              "</table>\n",
              "</div>\n",
              "    <div class=\"colab-df-buttons\">\n",
              "\n",
              "  <div class=\"colab-df-container\">\n",
              "    <button class=\"colab-df-convert\" onclick=\"convertToInteractive('df-bb16f46f-ecc3-442e-85cc-b208243854a4')\"\n",
              "            title=\"Convert this dataframe to an interactive table.\"\n",
              "            style=\"display:none;\">\n",
              "\n",
              "  <svg xmlns=\"http://www.w3.org/2000/svg\" height=\"24px\" viewBox=\"0 -960 960 960\">\n",
              "    <path d=\"M120-120v-720h720v720H120Zm60-500h600v-160H180v160Zm220 220h160v-160H400v160Zm0 220h160v-160H400v160ZM180-400h160v-160H180v160Zm440 0h160v-160H620v160ZM180-180h160v-160H180v160Zm440 0h160v-160H620v160Z\"/>\n",
              "  </svg>\n",
              "    </button>\n",
              "\n",
              "  <style>\n",
              "    .colab-df-container {\n",
              "      display:flex;\n",
              "      gap: 12px;\n",
              "    }\n",
              "\n",
              "    .colab-df-convert {\n",
              "      background-color: #E8F0FE;\n",
              "      border: none;\n",
              "      border-radius: 50%;\n",
              "      cursor: pointer;\n",
              "      display: none;\n",
              "      fill: #1967D2;\n",
              "      height: 32px;\n",
              "      padding: 0 0 0 0;\n",
              "      width: 32px;\n",
              "    }\n",
              "\n",
              "    .colab-df-convert:hover {\n",
              "      background-color: #E2EBFA;\n",
              "      box-shadow: 0px 1px 2px rgba(60, 64, 67, 0.3), 0px 1px 3px 1px rgba(60, 64, 67, 0.15);\n",
              "      fill: #174EA6;\n",
              "    }\n",
              "\n",
              "    .colab-df-buttons div {\n",
              "      margin-bottom: 4px;\n",
              "    }\n",
              "\n",
              "    [theme=dark] .colab-df-convert {\n",
              "      background-color: #3B4455;\n",
              "      fill: #D2E3FC;\n",
              "    }\n",
              "\n",
              "    [theme=dark] .colab-df-convert:hover {\n",
              "      background-color: #434B5C;\n",
              "      box-shadow: 0px 1px 3px 1px rgba(0, 0, 0, 0.15);\n",
              "      filter: drop-shadow(0px 1px 2px rgba(0, 0, 0, 0.3));\n",
              "      fill: #FFFFFF;\n",
              "    }\n",
              "  </style>\n",
              "\n",
              "    <script>\n",
              "      const buttonEl =\n",
              "        document.querySelector('#df-bb16f46f-ecc3-442e-85cc-b208243854a4 button.colab-df-convert');\n",
              "      buttonEl.style.display =\n",
              "        google.colab.kernel.accessAllowed ? 'block' : 'none';\n",
              "\n",
              "      async function convertToInteractive(key) {\n",
              "        const element = document.querySelector('#df-bb16f46f-ecc3-442e-85cc-b208243854a4');\n",
              "        const dataTable =\n",
              "          await google.colab.kernel.invokeFunction('convertToInteractive',\n",
              "                                                    [key], {});\n",
              "        if (!dataTable) return;\n",
              "\n",
              "        const docLinkHtml = 'Like what you see? Visit the ' +\n",
              "          '<a target=\"_blank\" href=https://colab.research.google.com/notebooks/data_table.ipynb>data table notebook</a>'\n",
              "          + ' to learn more about interactive tables.';\n",
              "        element.innerHTML = '';\n",
              "        dataTable['output_type'] = 'display_data';\n",
              "        await google.colab.output.renderOutput(dataTable, element);\n",
              "        const docLink = document.createElement('div');\n",
              "        docLink.innerHTML = docLinkHtml;\n",
              "        element.appendChild(docLink);\n",
              "      }\n",
              "    </script>\n",
              "  </div>\n",
              "\n",
              "\n",
              "<div id=\"df-a4b95745-b0b6-423e-ae4a-990f6022e32c\">\n",
              "  <button class=\"colab-df-quickchart\" onclick=\"quickchart('df-a4b95745-b0b6-423e-ae4a-990f6022e32c')\"\n",
              "            title=\"Suggest charts\"\n",
              "            style=\"display:none;\">\n",
              "\n",
              "<svg xmlns=\"http://www.w3.org/2000/svg\" height=\"24px\"viewBox=\"0 0 24 24\"\n",
              "     width=\"24px\">\n",
              "    <g>\n",
              "        <path d=\"M19 3H5c-1.1 0-2 .9-2 2v14c0 1.1.9 2 2 2h14c1.1 0 2-.9 2-2V5c0-1.1-.9-2-2-2zM9 17H7v-7h2v7zm4 0h-2V7h2v10zm4 0h-2v-4h2v4z\"/>\n",
              "    </g>\n",
              "</svg>\n",
              "  </button>\n",
              "\n",
              "<style>\n",
              "  .colab-df-quickchart {\n",
              "      --bg-color: #E8F0FE;\n",
              "      --fill-color: #1967D2;\n",
              "      --hover-bg-color: #E2EBFA;\n",
              "      --hover-fill-color: #174EA6;\n",
              "      --disabled-fill-color: #AAA;\n",
              "      --disabled-bg-color: #DDD;\n",
              "  }\n",
              "\n",
              "  [theme=dark] .colab-df-quickchart {\n",
              "      --bg-color: #3B4455;\n",
              "      --fill-color: #D2E3FC;\n",
              "      --hover-bg-color: #434B5C;\n",
              "      --hover-fill-color: #FFFFFF;\n",
              "      --disabled-bg-color: #3B4455;\n",
              "      --disabled-fill-color: #666;\n",
              "  }\n",
              "\n",
              "  .colab-df-quickchart {\n",
              "    background-color: var(--bg-color);\n",
              "    border: none;\n",
              "    border-radius: 50%;\n",
              "    cursor: pointer;\n",
              "    display: none;\n",
              "    fill: var(--fill-color);\n",
              "    height: 32px;\n",
              "    padding: 0;\n",
              "    width: 32px;\n",
              "  }\n",
              "\n",
              "  .colab-df-quickchart:hover {\n",
              "    background-color: var(--hover-bg-color);\n",
              "    box-shadow: 0 1px 2px rgba(60, 64, 67, 0.3), 0 1px 3px 1px rgba(60, 64, 67, 0.15);\n",
              "    fill: var(--button-hover-fill-color);\n",
              "  }\n",
              "\n",
              "  .colab-df-quickchart-complete:disabled,\n",
              "  .colab-df-quickchart-complete:disabled:hover {\n",
              "    background-color: var(--disabled-bg-color);\n",
              "    fill: var(--disabled-fill-color);\n",
              "    box-shadow: none;\n",
              "  }\n",
              "\n",
              "  .colab-df-spinner {\n",
              "    border: 2px solid var(--fill-color);\n",
              "    border-color: transparent;\n",
              "    border-bottom-color: var(--fill-color);\n",
              "    animation:\n",
              "      spin 1s steps(1) infinite;\n",
              "  }\n",
              "\n",
              "  @keyframes spin {\n",
              "    0% {\n",
              "      border-color: transparent;\n",
              "      border-bottom-color: var(--fill-color);\n",
              "      border-left-color: var(--fill-color);\n",
              "    }\n",
              "    20% {\n",
              "      border-color: transparent;\n",
              "      border-left-color: var(--fill-color);\n",
              "      border-top-color: var(--fill-color);\n",
              "    }\n",
              "    30% {\n",
              "      border-color: transparent;\n",
              "      border-left-color: var(--fill-color);\n",
              "      border-top-color: var(--fill-color);\n",
              "      border-right-color: var(--fill-color);\n",
              "    }\n",
              "    40% {\n",
              "      border-color: transparent;\n",
              "      border-right-color: var(--fill-color);\n",
              "      border-top-color: var(--fill-color);\n",
              "    }\n",
              "    60% {\n",
              "      border-color: transparent;\n",
              "      border-right-color: var(--fill-color);\n",
              "    }\n",
              "    80% {\n",
              "      border-color: transparent;\n",
              "      border-right-color: var(--fill-color);\n",
              "      border-bottom-color: var(--fill-color);\n",
              "    }\n",
              "    90% {\n",
              "      border-color: transparent;\n",
              "      border-bottom-color: var(--fill-color);\n",
              "    }\n",
              "  }\n",
              "</style>\n",
              "\n",
              "  <script>\n",
              "    async function quickchart(key) {\n",
              "      const quickchartButtonEl =\n",
              "        document.querySelector('#' + key + ' button');\n",
              "      quickchartButtonEl.disabled = true;  // To prevent multiple clicks.\n",
              "      quickchartButtonEl.classList.add('colab-df-spinner');\n",
              "      try {\n",
              "        const charts = await google.colab.kernel.invokeFunction(\n",
              "            'suggestCharts', [key], {});\n",
              "      } catch (error) {\n",
              "        console.error('Error during call to suggestCharts:', error);\n",
              "      }\n",
              "      quickchartButtonEl.classList.remove('colab-df-spinner');\n",
              "      quickchartButtonEl.classList.add('colab-df-quickchart-complete');\n",
              "    }\n",
              "    (() => {\n",
              "      let quickchartButtonEl =\n",
              "        document.querySelector('#df-a4b95745-b0b6-423e-ae4a-990f6022e32c button');\n",
              "      quickchartButtonEl.style.display =\n",
              "        google.colab.kernel.accessAllowed ? 'block' : 'none';\n",
              "    })();\n",
              "  </script>\n",
              "</div>\n",
              "\n",
              "    </div>\n",
              "  </div>\n"
            ],
            "application/vnd.google.colaboratory.intrinsic+json": {
              "type": "dataframe",
              "variable_name": "results",
              "summary": "{\n  \"name\": \"results\",\n  \"rows\": 50,\n  \"fields\": [\n    {\n      \"column\": \"y_true\",\n      \"properties\": {\n        \"dtype\": \"number\",\n        \"std\": 20.779232662761096,\n        \"min\": 60.62980723125152,\n        \"max\": 150.2192693968074,\n        \"num_unique_values\": 50,\n        \"samples\": [\n          82.93669047167963,\n          96.72371892252264,\n          67.37155580066522\n        ],\n        \"semantic_type\": \"\",\n        \"description\": \"\"\n      }\n    },\n    {\n      \"column\": \"y_pred\",\n      \"properties\": {\n        \"dtype\": \"number\",\n        \"std\": 20.50047886995275,\n        \"min\": 60.241950831918786,\n        \"max\": 146.2191109261355,\n        \"num_unique_values\": 50,\n        \"samples\": [\n          110.75024863809419,\n          89.7840836016904,\n          91.56464628106764\n        ],\n        \"semantic_type\": \"\",\n        \"description\": \"\"\n      }\n    },\n    {\n      \"column\": \"error\",\n      \"properties\": {\n        \"dtype\": \"number\",\n        \"std\": 10.110850055514145,\n        \"min\": -27.813558166414566,\n        \"max\": 22.425739822926687,\n        \"num_unique_values\": 50,\n        \"samples\": [\n          -27.813558166414566,\n          6.939635320832238,\n          -24.193090480402418\n        ],\n        \"semantic_type\": \"\",\n        \"description\": \"\"\n      }\n    }\n  ]\n}"
            }
          },
          "metadata": {},
          "execution_count": 8
        }
      ]
    },
    {
      "cell_type": "markdown",
      "source": [
        "###Metryki"
      ],
      "metadata": {
        "id": "mnDbFuD7tnOP"
      }
    },
    {
      "cell_type": "code",
      "source": [
        "def plot_regression_results(y_true, y_pred):\n",
        "    results = pd.DataFrame({'y_true': y_true, 'y_pred': y_pred})\n",
        "    min = results[['y_true', 'y_pred']].min().min()\n",
        "    max = results[['y_true', 'y_pred']].max().max()\n",
        "\n",
        "    fig = go.Figure(data=[go.Scatter(x=results['y_true'], y=results['y_pred'], mode='markers'),\n",
        "                    go.Scatter(x=[min, max], y=[min, max])],\n",
        "                    layout=go.Layout(showlegend=False, width=800,\n",
        "                                     xaxis_title='y_true',\n",
        "                                     yaxis_title='y_pred',\n",
        "                                     title='Regression results'))\n",
        "    fig.show()\n",
        "plot_regression_results(y_true, y_pred)"
      ],
      "metadata": {
        "colab": {
          "base_uri": "https://localhost:8080/",
          "height": 542
        },
        "id": "3Y9jA_5DtSBT",
        "outputId": "173f881b-f75f-4110-bd01-541f8c0fa590"
      },
      "execution_count": 9,
      "outputs": [
        {
          "output_type": "display_data",
          "data": {
            "text/html": [
              "<html>\n",
              "<head><meta charset=\"utf-8\" /></head>\n",
              "<body>\n",
              "    <div>            <script src=\"https://cdnjs.cloudflare.com/ajax/libs/mathjax/2.7.5/MathJax.js?config=TeX-AMS-MML_SVG\"></script><script type=\"text/javascript\">if (window.MathJax && window.MathJax.Hub && window.MathJax.Hub.Config) {window.MathJax.Hub.Config({SVG: {font: \"STIX-Web\"}});}</script>                <script type=\"text/javascript\">window.PlotlyConfig = {MathJaxConfig: 'local'};</script>\n",
              "        <script charset=\"utf-8\" src=\"https://cdn.plot.ly/plotly-2.35.2.min.js\"></script>                <div id=\"6b8a93fd-3e0d-42f4-b24e-934918a2c671\" class=\"plotly-graph-div\" style=\"height:525px; width:800px;\"></div>            <script type=\"text/javascript\">                                    window.PLOTLYENV=window.PLOTLYENV || {};                                    if (document.getElementById(\"6b8a93fd-3e0d-42f4-b24e-934918a2c671\")) {                    Plotly.newPlot(                        \"6b8a93fd-3e0d-42f4-b24e-934918a2c671\",                        [{\"mode\":\"markers\",\"x\":[86.35466164849764,124.28051309568903,72.51110361460175,111.43746172602337,136.52788865252145,127.26590941920897,67.94917820909217,86.87798943727549,132.10740424414277,101.52311088498764,60.62980723125152,119.46594990789157,104.17256790858492,82.93669047167963,78.52433603463754,107.3130199224144,110.87084723591313,127.19788735619798,77.03532607745291,129.16063042454454,77.76944049362609,104.33881357294675,103.53944067356474,114.71777529983804,120.28113442129846,93.49681425374169,96.19156187572648,71.02664514467648,117.60810196058321,113.20063362610938,67.37155580066522,68.5341026135718,100.44619658152334,103.33869710201604,78.41252591006611,96.6128497256876,66.44487182830483,93.4381012358418,105.0577926741305,96.72371892252264,91.5237998094662,109.7383374820415,92.03738998067475,90.06280265587903,112.84441110100593,83.17612577403328,100.92558635933247,150.2192693968074,77.89412157766124,112.94680095039786],\"y\":[94.37641587593069,130.16880034246606,68.37951704050528,123.59277216067477,130.5951926844525,128.23276337186806,60.241950831918786,91.45271358220589,138.0968401902053,114.77786937452655,71.67853075022784,123.37203160206094,88.0904425891989,110.75024863809419,85.27173649258478,107.3751402941315,108.90897258015315,120.46546176301918,78.44030485750173,123.97993201844939,79.09227315864986,99.69486184869459,109.70443572201218,110.89696674168266,107.96408865942163,79.63862873613309,107.48379521775225,63.769536047779404,95.18236213765653,93.49487716110343,91.56464628106764,65.47067713395572,85.36249721138542,96.7002413744315,73.31344140461209,80.63944878299526,76.35742405576393,91.79230233587845,101.1453978601352,89.7840836016904,84.92442174473663,100.10454989919955,86.80662393779332,93.68363140978258,105.96895092127409,79.4776871998513,102.3534915835172,146.2191109261355,81.1017803998368,123.46707097098113],\"type\":\"scatter\"},{\"x\":[60.241950831918786,150.2192693968074],\"y\":[60.241950831918786,150.2192693968074],\"type\":\"scatter\"}],                        {\"showlegend\":false,\"title\":{\"text\":\"Regression results\"},\"width\":800,\"xaxis\":{\"title\":{\"text\":\"y_true\"}},\"yaxis\":{\"title\":{\"text\":\"y_pred\"}},\"template\":{\"data\":{\"histogram2dcontour\":[{\"type\":\"histogram2dcontour\",\"colorbar\":{\"outlinewidth\":0,\"ticks\":\"\"},\"colorscale\":[[0.0,\"#0d0887\"],[0.1111111111111111,\"#46039f\"],[0.2222222222222222,\"#7201a8\"],[0.3333333333333333,\"#9c179e\"],[0.4444444444444444,\"#bd3786\"],[0.5555555555555556,\"#d8576b\"],[0.6666666666666666,\"#ed7953\"],[0.7777777777777778,\"#fb9f3a\"],[0.8888888888888888,\"#fdca26\"],[1.0,\"#f0f921\"]]}],\"choropleth\":[{\"type\":\"choropleth\",\"colorbar\":{\"outlinewidth\":0,\"ticks\":\"\"}}],\"histogram2d\":[{\"type\":\"histogram2d\",\"colorbar\":{\"outlinewidth\":0,\"ticks\":\"\"},\"colorscale\":[[0.0,\"#0d0887\"],[0.1111111111111111,\"#46039f\"],[0.2222222222222222,\"#7201a8\"],[0.3333333333333333,\"#9c179e\"],[0.4444444444444444,\"#bd3786\"],[0.5555555555555556,\"#d8576b\"],[0.6666666666666666,\"#ed7953\"],[0.7777777777777778,\"#fb9f3a\"],[0.8888888888888888,\"#fdca26\"],[1.0,\"#f0f921\"]]}],\"heatmap\":[{\"type\":\"heatmap\",\"colorbar\":{\"outlinewidth\":0,\"ticks\":\"\"},\"colorscale\":[[0.0,\"#0d0887\"],[0.1111111111111111,\"#46039f\"],[0.2222222222222222,\"#7201a8\"],[0.3333333333333333,\"#9c179e\"],[0.4444444444444444,\"#bd3786\"],[0.5555555555555556,\"#d8576b\"],[0.6666666666666666,\"#ed7953\"],[0.7777777777777778,\"#fb9f3a\"],[0.8888888888888888,\"#fdca26\"],[1.0,\"#f0f921\"]]}],\"heatmapgl\":[{\"type\":\"heatmapgl\",\"colorbar\":{\"outlinewidth\":0,\"ticks\":\"\"},\"colorscale\":[[0.0,\"#0d0887\"],[0.1111111111111111,\"#46039f\"],[0.2222222222222222,\"#7201a8\"],[0.3333333333333333,\"#9c179e\"],[0.4444444444444444,\"#bd3786\"],[0.5555555555555556,\"#d8576b\"],[0.6666666666666666,\"#ed7953\"],[0.7777777777777778,\"#fb9f3a\"],[0.8888888888888888,\"#fdca26\"],[1.0,\"#f0f921\"]]}],\"contourcarpet\":[{\"type\":\"contourcarpet\",\"colorbar\":{\"outlinewidth\":0,\"ticks\":\"\"}}],\"contour\":[{\"type\":\"contour\",\"colorbar\":{\"outlinewidth\":0,\"ticks\":\"\"},\"colorscale\":[[0.0,\"#0d0887\"],[0.1111111111111111,\"#46039f\"],[0.2222222222222222,\"#7201a8\"],[0.3333333333333333,\"#9c179e\"],[0.4444444444444444,\"#bd3786\"],[0.5555555555555556,\"#d8576b\"],[0.6666666666666666,\"#ed7953\"],[0.7777777777777778,\"#fb9f3a\"],[0.8888888888888888,\"#fdca26\"],[1.0,\"#f0f921\"]]}],\"surface\":[{\"type\":\"surface\",\"colorbar\":{\"outlinewidth\":0,\"ticks\":\"\"},\"colorscale\":[[0.0,\"#0d0887\"],[0.1111111111111111,\"#46039f\"],[0.2222222222222222,\"#7201a8\"],[0.3333333333333333,\"#9c179e\"],[0.4444444444444444,\"#bd3786\"],[0.5555555555555556,\"#d8576b\"],[0.6666666666666666,\"#ed7953\"],[0.7777777777777778,\"#fb9f3a\"],[0.8888888888888888,\"#fdca26\"],[1.0,\"#f0f921\"]]}],\"mesh3d\":[{\"type\":\"mesh3d\",\"colorbar\":{\"outlinewidth\":0,\"ticks\":\"\"}}],\"scatter\":[{\"fillpattern\":{\"fillmode\":\"overlay\",\"size\":10,\"solidity\":0.2},\"type\":\"scatter\"}],\"parcoords\":[{\"type\":\"parcoords\",\"line\":{\"colorbar\":{\"outlinewidth\":0,\"ticks\":\"\"}}}],\"scatterpolargl\":[{\"type\":\"scatterpolargl\",\"marker\":{\"colorbar\":{\"outlinewidth\":0,\"ticks\":\"\"}}}],\"bar\":[{\"error_x\":{\"color\":\"#2a3f5f\"},\"error_y\":{\"color\":\"#2a3f5f\"},\"marker\":{\"line\":{\"color\":\"#E5ECF6\",\"width\":0.5},\"pattern\":{\"fillmode\":\"overlay\",\"size\":10,\"solidity\":0.2}},\"type\":\"bar\"}],\"scattergeo\":[{\"type\":\"scattergeo\",\"marker\":{\"colorbar\":{\"outlinewidth\":0,\"ticks\":\"\"}}}],\"scatterpolar\":[{\"type\":\"scatterpolar\",\"marker\":{\"colorbar\":{\"outlinewidth\":0,\"ticks\":\"\"}}}],\"histogram\":[{\"marker\":{\"pattern\":{\"fillmode\":\"overlay\",\"size\":10,\"solidity\":0.2}},\"type\":\"histogram\"}],\"scattergl\":[{\"type\":\"scattergl\",\"marker\":{\"colorbar\":{\"outlinewidth\":0,\"ticks\":\"\"}}}],\"scatter3d\":[{\"type\":\"scatter3d\",\"line\":{\"colorbar\":{\"outlinewidth\":0,\"ticks\":\"\"}},\"marker\":{\"colorbar\":{\"outlinewidth\":0,\"ticks\":\"\"}}}],\"scattermapbox\":[{\"type\":\"scattermapbox\",\"marker\":{\"colorbar\":{\"outlinewidth\":0,\"ticks\":\"\"}}}],\"scatterternary\":[{\"type\":\"scatterternary\",\"marker\":{\"colorbar\":{\"outlinewidth\":0,\"ticks\":\"\"}}}],\"scattercarpet\":[{\"type\":\"scattercarpet\",\"marker\":{\"colorbar\":{\"outlinewidth\":0,\"ticks\":\"\"}}}],\"carpet\":[{\"aaxis\":{\"endlinecolor\":\"#2a3f5f\",\"gridcolor\":\"white\",\"linecolor\":\"white\",\"minorgridcolor\":\"white\",\"startlinecolor\":\"#2a3f5f\"},\"baxis\":{\"endlinecolor\":\"#2a3f5f\",\"gridcolor\":\"white\",\"linecolor\":\"white\",\"minorgridcolor\":\"white\",\"startlinecolor\":\"#2a3f5f\"},\"type\":\"carpet\"}],\"table\":[{\"cells\":{\"fill\":{\"color\":\"#EBF0F8\"},\"line\":{\"color\":\"white\"}},\"header\":{\"fill\":{\"color\":\"#C8D4E3\"},\"line\":{\"color\":\"white\"}},\"type\":\"table\"}],\"barpolar\":[{\"marker\":{\"line\":{\"color\":\"#E5ECF6\",\"width\":0.5},\"pattern\":{\"fillmode\":\"overlay\",\"size\":10,\"solidity\":0.2}},\"type\":\"barpolar\"}],\"pie\":[{\"automargin\":true,\"type\":\"pie\"}]},\"layout\":{\"autotypenumbers\":\"strict\",\"colorway\":[\"#636efa\",\"#EF553B\",\"#00cc96\",\"#ab63fa\",\"#FFA15A\",\"#19d3f3\",\"#FF6692\",\"#B6E880\",\"#FF97FF\",\"#FECB52\"],\"font\":{\"color\":\"#2a3f5f\"},\"hovermode\":\"closest\",\"hoverlabel\":{\"align\":\"left\"},\"paper_bgcolor\":\"white\",\"plot_bgcolor\":\"#E5ECF6\",\"polar\":{\"bgcolor\":\"#E5ECF6\",\"angularaxis\":{\"gridcolor\":\"white\",\"linecolor\":\"white\",\"ticks\":\"\"},\"radialaxis\":{\"gridcolor\":\"white\",\"linecolor\":\"white\",\"ticks\":\"\"}},\"ternary\":{\"bgcolor\":\"#E5ECF6\",\"aaxis\":{\"gridcolor\":\"white\",\"linecolor\":\"white\",\"ticks\":\"\"},\"baxis\":{\"gridcolor\":\"white\",\"linecolor\":\"white\",\"ticks\":\"\"},\"caxis\":{\"gridcolor\":\"white\",\"linecolor\":\"white\",\"ticks\":\"\"}},\"coloraxis\":{\"colorbar\":{\"outlinewidth\":0,\"ticks\":\"\"}},\"colorscale\":{\"sequential\":[[0.0,\"#0d0887\"],[0.1111111111111111,\"#46039f\"],[0.2222222222222222,\"#7201a8\"],[0.3333333333333333,\"#9c179e\"],[0.4444444444444444,\"#bd3786\"],[0.5555555555555556,\"#d8576b\"],[0.6666666666666666,\"#ed7953\"],[0.7777777777777778,\"#fb9f3a\"],[0.8888888888888888,\"#fdca26\"],[1.0,\"#f0f921\"]],\"sequentialminus\":[[0.0,\"#0d0887\"],[0.1111111111111111,\"#46039f\"],[0.2222222222222222,\"#7201a8\"],[0.3333333333333333,\"#9c179e\"],[0.4444444444444444,\"#bd3786\"],[0.5555555555555556,\"#d8576b\"],[0.6666666666666666,\"#ed7953\"],[0.7777777777777778,\"#fb9f3a\"],[0.8888888888888888,\"#fdca26\"],[1.0,\"#f0f921\"]],\"diverging\":[[0,\"#8e0152\"],[0.1,\"#c51b7d\"],[0.2,\"#de77ae\"],[0.3,\"#f1b6da\"],[0.4,\"#fde0ef\"],[0.5,\"#f7f7f7\"],[0.6,\"#e6f5d0\"],[0.7,\"#b8e186\"],[0.8,\"#7fbc41\"],[0.9,\"#4d9221\"],[1,\"#276419\"]]},\"xaxis\":{\"gridcolor\":\"white\",\"linecolor\":\"white\",\"ticks\":\"\",\"title\":{\"standoff\":15},\"zerolinecolor\":\"white\",\"automargin\":true,\"zerolinewidth\":2},\"yaxis\":{\"gridcolor\":\"white\",\"linecolor\":\"white\",\"ticks\":\"\",\"title\":{\"standoff\":15},\"zerolinecolor\":\"white\",\"automargin\":true,\"zerolinewidth\":2},\"scene\":{\"xaxis\":{\"backgroundcolor\":\"#E5ECF6\",\"gridcolor\":\"white\",\"linecolor\":\"white\",\"showbackground\":true,\"ticks\":\"\",\"zerolinecolor\":\"white\",\"gridwidth\":2},\"yaxis\":{\"backgroundcolor\":\"#E5ECF6\",\"gridcolor\":\"white\",\"linecolor\":\"white\",\"showbackground\":true,\"ticks\":\"\",\"zerolinecolor\":\"white\",\"gridwidth\":2},\"zaxis\":{\"backgroundcolor\":\"#E5ECF6\",\"gridcolor\":\"white\",\"linecolor\":\"white\",\"showbackground\":true,\"ticks\":\"\",\"zerolinecolor\":\"white\",\"gridwidth\":2}},\"shapedefaults\":{\"line\":{\"color\":\"#2a3f5f\"}},\"annotationdefaults\":{\"arrowcolor\":\"#2a3f5f\",\"arrowhead\":0,\"arrowwidth\":1},\"geo\":{\"bgcolor\":\"white\",\"landcolor\":\"#E5ECF6\",\"subunitcolor\":\"white\",\"showland\":true,\"showlakes\":true,\"lakecolor\":\"white\"},\"title\":{\"x\":0.05},\"mapbox\":{\"style\":\"light\"}}}},                        {\"responsive\": true}                    ).then(function(){\n",
              "                            \n",
              "var gd = document.getElementById('6b8a93fd-3e0d-42f4-b24e-934918a2c671');\n",
              "var x = new MutationObserver(function (mutations, observer) {{\n",
              "        var display = window.getComputedStyle(gd).display;\n",
              "        if (!display || display === 'none') {{\n",
              "            console.log([gd, 'removed!']);\n",
              "            Plotly.purge(gd);\n",
              "            observer.disconnect();\n",
              "        }}\n",
              "}});\n",
              "\n",
              "// Listen for the removal of the full notebook cells\n",
              "var notebookContainer = gd.closest('#notebook-container');\n",
              "if (notebookContainer) {{\n",
              "    x.observe(notebookContainer, {childList: true});\n",
              "}}\n",
              "\n",
              "// Listen for the clearing of the current output cell\n",
              "var outputEl = gd.closest('.output');\n",
              "if (outputEl) {{\n",
              "    x.observe(outputEl, {childList: true});\n",
              "}}\n",
              "\n",
              "                        })                };                            </script>        </div>\n",
              "</body>\n",
              "</html>"
            ]
          },
          "metadata": {}
        }
      ]
    },
    {
      "cell_type": "code",
      "source": [
        "\n",
        "y_true = 100 + 20 * np.random.randn(1000)\n",
        "y_pred = y_true + 10 * np.random.randn(1000)\n",
        "results = pd.DataFrame({'y_true': y_true, 'y_pred': y_pred})\n",
        "results['error'] = results['y_true'] - results['y_pred']\n",
        "\n",
        "px.histogram(results, x='error', nbins=50, width=800)"
      ],
      "metadata": {
        "colab": {
          "base_uri": "https://localhost:8080/",
          "height": 542
        },
        "id": "HZPbLtbItpKy",
        "outputId": "8a8b095e-d8c3-4fb7-ce72-35a19a8ba6c6"
      },
      "execution_count": 10,
      "outputs": [
        {
          "output_type": "display_data",
          "data": {
            "text/html": [
              "<html>\n",
              "<head><meta charset=\"utf-8\" /></head>\n",
              "<body>\n",
              "    <div>            <script src=\"https://cdnjs.cloudflare.com/ajax/libs/mathjax/2.7.5/MathJax.js?config=TeX-AMS-MML_SVG\"></script><script type=\"text/javascript\">if (window.MathJax && window.MathJax.Hub && window.MathJax.Hub.Config) {window.MathJax.Hub.Config({SVG: {font: \"STIX-Web\"}});}</script>                <script type=\"text/javascript\">window.PlotlyConfig = {MathJaxConfig: 'local'};</script>\n",
              "        <script charset=\"utf-8\" src=\"https://cdn.plot.ly/plotly-2.35.2.min.js\"></script>                <div id=\"cda975af-8b7f-4929-a962-f677ffa8ff9e\" class=\"plotly-graph-div\" style=\"height:525px; width:800px;\"></div>            <script type=\"text/javascript\">                                    window.PLOTLYENV=window.PLOTLYENV || {};                                    if (document.getElementById(\"cda975af-8b7f-4929-a962-f677ffa8ff9e\")) {                    Plotly.newPlot(                        \"cda975af-8b7f-4929-a962-f677ffa8ff9e\",                        [{\"alignmentgroup\":\"True\",\"bingroup\":\"x\",\"hovertemplate\":\"error=%{x}\\u003cbr\\u003ecount=%{y}\\u003cextra\\u003e\\u003c\\u002fextra\\u003e\",\"legendgroup\":\"\",\"marker\":{\"color\":\"#636efa\",\"pattern\":{\"shape\":\"\"}},\"name\":\"\",\"nbinsx\":50,\"offsetgroup\":\"\",\"orientation\":\"v\",\"showlegend\":false,\"x\":[-11.158115557816416,2.8976852057716087,-19.151040165922964,12.309317758514737,9.661849046108188,5.104587085564219,2.9858608395774127,10.145132954367213,-4.084162756260767,-1.9629723483594148,21.42023932526527,-21.95059742068635,7.0769866280553515,9.885492117748214,5.940040424393928,17.831507369728868,3.2476567963360736,14.576645161483484,-13.532762606057887,13.792994530341105,-6.178334108601902,2.704905275038726,3.5835258233289977,-15.934341563490335,-3.844211827507337,-3.5745110847460495,-3.114420043443488,7.176682630499869,-11.957395452578538,-8.696149322145118,-0.5574042874905416,-0.6805103027747776,-14.57043977738148,-11.075511615852392,-0.03582614420815844,-4.669018316359484,-5.263726609328387,-20.672504250038926,-15.813036426772825,-4.14811037807911,-0.8018832597398244,2.305392878501962,-4.4895974762708875,-1.4473644504790144,-11.599333145021205,15.406878010589352,15.315518282468034,-2.082572858165747,7.163253519358506,-10.419633652885665,2.4430506205207507,-7.477433613222701,19.080162645603224,10.962277968609683,-2.945451517969744,-1.7522053576699221,2.1898601873672305,11.380189073965823,29.89287232308672,-6.823130122288958,3.3296245181826123,3.738499101988282,9.386161787684088,-27.343658255686904,-13.3006432117228,-15.00375611373022,-0.6501058804732907,-10.190855621957553,11.42916017218667,-23.36792392241857,3.653024009837935,-5.194285500350674,7.3365814877869155,-17.025198162500942,14.528124121501207,-4.709744097525373,5.14344142277119,9.21798350716574,-8.369748047820195,-6.454445724680312,-10.739024920500071,-13.573090732215192,-2.1353009903964306,16.380056673970202,5.616494346150759,-7.574617187005288,2.52109570339087,3.2040088350439078,-7.54473975972121,-5.3205802394662385,-19.529931491239708,21.432222406449966,2.6533255601842427,-15.112383751077573,-17.532824011952343,-8.978015949975955,7.153374213427057,2.736863668451548,19.85621781925005,-3.35699379870492,-7.304790233570756,3.741263401395557,-3.3009991377345216,2.7429019871660643,5.210487336959432,-19.28003085189215,3.001699288752846,-5.916788800195803,-8.855815224268653,8.686542252619319,-1.4114773197932493,15.967465488405452,8.94618781153806,14.969815336973042,17.709807635066838,-4.348362898720779,-8.453607856277841,-12.543047242003269,-4.870111868712087,12.355722964007597,0.021547856655686815,5.375590841785993,6.271569260819277,4.030033849091225,0.8579772585552377,-5.292361040689528,0.203753670682417,-3.5802774329408322,0.9794010575286762,-5.040601255034005,-3.870140645079914,-9.66394284059686,6.963111303197465,-6.770012183570373,1.6372120159288954,-11.533934015602668,12.667859538724585,14.764445517919995,19.536160479281577,8.826890330586153,-15.238295582516628,15.285745436643467,-10.301428973466699,14.19814141298697,-10.44951820584933,3.042055693977886,4.179717807942211,-1.5896914097975383,13.716082159074716,2.8066817771752,-2.1174969153962593,-10.355135405865852,-0.9998701406446884,-4.99542106428045,-11.338419135579741,-7.899922990385704,15.950530234979723,-8.592464419826683,6.950998939261197,-16.03765894454726,-2.123309304901639,1.7671221959982972,8.286565941248597,-21.40620168019889,-7.918911440198144,-0.877152191567717,-6.923763626938893,1.7934033286842919,-5.1030136172941525,-4.06169330556385,5.380214935501996,1.4515553770733192,18.928765191234305,11.498227288994073,1.7703899462657091,19.068840855275695,12.10300863951123,1.8439961774338798,-0.4036507765580666,-5.5175900475751405,3.999829397853219,14.132444723334132,11.864201144739795,-8.115657749263463,-0.34597954133181474,5.768005166346327,14.623400923287562,-5.359191319715421,4.473047452603879,-1.016676550079083,0.5025649438340452,-1.1577867150214303,-7.640608383376318,-4.316333755654853,-4.718271447364586,0.4939409856051782,20.715720911920457,-5.914725869479284,5.529125708689065,-9.739362426549235,-0.8887954959667042,-6.128438382281715,16.821539265788303,11.47138331924954,12.824746026514099,2.0095534470779484,-11.503023006010508,4.384152757887847,0.3330100010765591,3.162359458143058,-9.721596821167381,-22.236836344482185,21.07803277868318,9.6671885635171,1.5826949351042003,-2.4330087619007372,-3.2924778976297375,4.882698888779316,7.140998876529935,-4.790153406476762,5.278570580825033,-9.07873560825061,-4.465520833609929,17.39712914567737,-12.630808522438173,9.404551679381804,4.84296475397197,-8.454761505983058,-5.668336534792104,-12.136971334849349,10.368150604847827,12.335970066977325,-1.9613049093840402,3.303347059080366,9.07684170035597,-9.910001857336752,-4.800445741150654,-4.74492016960987,14.993101996578481,-8.574202135212317,19.82174412192255,-3.433934041497011,-2.604280440044562,-0.29652915426484583,0.6695586638420963,5.794528970459169,14.721374722974403,7.83945818372537,3.9548253965909055,-17.83730749679303,0.6406876351643405,-6.914928723886703,5.6263582112694905,0.6623295815527541,25.603359914814504,-2.967133431350973,-12.383490823897361,-11.850799739438187,-8.431514555751335,-8.526722680674268,-4.092921616708793,4.952670542024279,3.8747566305423646,16.77512964905783,21.795016960920208,-15.359788834783927,-3.1589225995969485,12.717388717193046,-2.2655985583274116,14.62781723620219,-15.132046505651402,-16.26735604986277,0.011176945725182463,10.426211084074993,-13.266527927242095,0.6200492080266287,7.703374189579051,0.5494114961145016,14.051175676607997,-9.962028490709187,-10.298522388032282,-6.169088384144672,-28.028208630470125,-5.888877312045963,-5.75920008149609,-10.279283327922826,5.052556666852894,11.779081862650429,-0.53230669663877,-3.3769791530946236,18.144394448875715,9.872202258251903,-12.545970525099136,2.318891408113558,-0.7051550279625474,-14.108382111908185,-16.66288899703312,7.3627336113124215,4.8532747818358075,-10.014815909733315,10.316923647248245,-9.453450143675326,0.05130171335082423,3.878907266245946,5.817434283501555,2.0423708974606853,6.623080114171287,-8.236646542784229,0.32438531808102766,-2.6917479208830457,-11.360120551268452,-16.3183840798972,20.84050172009629,0.5424113861638347,17.007403463324422,4.358647137534589,2.053647668838579,-16.854443925940004,10.261694879494833,2.2860473152232714,0.38627539879486505,-2.564005814032498,-0.5049157566066498,5.047506035709532,-5.489953515546432,3.860375552335455,12.340676806128059,-8.355641256298668,-5.40087814777263,-4.646009954185843,8.082173485368628,8.158841414271123,-1.8612831275825528,10.036102728034734,-7.834714144746954,0.49062126867708855,5.477023978845239,-1.8478167200184146,-2.924331238010609,1.3174897985997092,6.471219182895737,-4.980159304255153,2.932167794303851,-5.775121396082653,-17.135678212359778,-11.967018441675776,10.532023184563073,-8.60821543145319,-8.992700061963902,9.31147745360849,-8.510856637666166,11.870799136858324,5.730097660166109,1.8680147274737067,-5.072615248841785,6.295210541062829,15.20962571471172,1.2378813320045907,9.537033911268182,-13.02466611865458,7.446310803172992,20.589603197390986,-13.920094653767265,-12.325481994755236,5.064304736774616,-10.243351079618634,10.495413771106058,1.1274426546538052,-10.21880959191732,-12.120056062117726,4.195824192539959,-18.28667524323116,-1.6879603314036302,1.9992210586642187,-2.1413956764601494,4.39479176101203,-4.170524156263653,1.0712193636234417,-10.04431476203402,-3.2205909960190695,15.281596292190812,-12.185926316799936,-9.333333748575399,10.304288992170513,12.673333116895236,8.884286631318233,-18.492487325324248,-10.932263063196913,11.703383326612851,24.31151383106836,4.6177598872310455,3.2458938378207165,5.990178997780433,-7.581149160361974,18.77708475184133,-5.229618845824902,10.16758978911372,28.538412291891646,16.481644220071956,-7.8931363702309625,12.62989089150237,-20.00130977561966,1.7214150330141393,16.632852314162335,8.435789838210965,-5.170994184589063,14.060729493015927,5.185341251551947,4.513936243876273,-9.105374881721872,6.020921218303187,11.99873796248015,-16.946181621095633,4.6906983674355445,1.4765211674713612,4.110413880027522,6.4929779041462865,2.672324290099084,-0.9921062822158717,-19.317343810341328,13.146019321781665,1.8496722370453398,7.9582246173184075,18.20354137156349,16.089844161658604,-12.586788858196414,9.035151648006448,1.8897307610700977,18.096202666634042,-1.7465467716958756,-19.689054525024872,16.09806594176861,-4.3066676277244085,-12.410848829705884,6.3057872642043975,-6.014249362965252,12.02805149045588,-7.157455579297874,9.157278322402263,-3.4189257874941177,-13.103444888417187,4.74001931909234,-6.679945221152039,12.023387197316154,1.6998344903921208,8.07020521808407,4.009436221869095,8.990492809311164,9.381037648193526,-4.280197725195507,-19.820038333757253,-7.690862136303068,-8.043969047535953,-10.87556532312766,-9.018393022980675,-7.596200155325178,11.368624006582152,-4.814370333331851,11.62941600035802,-0.17315565391174914,0.7206296308440301,-8.713654744567748,-19.088442576722045,6.083148339152729,11.398316786131858,8.069332225505633,-21.660899689283298,-14.046777632587293,-0.10689734694955177,-0.3687790939933109,-13.191110623757282,13.470433968081593,-10.257481998694189,-14.855030221332882,18.11838970461966,8.535619060977467,-2.7126051114661323,-12.27368587841444,9.545475709230757,-7.838095429825721,0.43657332509657465,-7.703383034629098,-28.359086333788483,-4.272676532394698,-2.764745546631559,18.539849465984148,9.433183503314638,-2.739108657114258,-12.542032180326771,28.85498753892783,-17.572572562988597,5.0518797854353465,20.206435407822482,1.1202509455981726,14.686685510961695,7.251133928097204,-11.01830186168003,1.8455824823963667,-15.603245750927954,11.606618935147225,-3.7545126100604307,2.1245931547399266,2.3801721784955703,-6.767843576450858,0.14539809577190965,-8.16887311849284,2.924364882844799,6.877236276318072,9.009633298351204,-7.529318706868466,-4.535976538209951,-21.992381386672534,-3.38527805253068,-23.308513832117228,-19.55111942824871,9.346660717061937,-4.084141623078693,-7.227291808536322,14.207414947142254,-3.65803344225732,-2.0686126174263393,0.1292983895124138,1.8245380257727106,0.5655868347708264,-13.395217390421543,1.7561461149667608,13.504366937175128,5.003332876692227,-13.796790833960728,6.90170632147742,-4.430017425473139,-3.3175421782092798,16.230545293381866,2.344991883104015,1.2939834300505453,-1.3106733863803441,-3.194678855443726,-0.2378642073899755,9.11776667705054,-23.14682294683773,-4.546689671459191,2.8102367562563586,-5.003002431081853,0.8892386966756618,-8.827552754430442,4.117969141843815,-0.5063327114094136,-3.8850418120540695,24.569409771419586,9.444717575891673,2.8868278269093963,-9.83367813064875,17.766686492788395,2.609121299118229,23.116703454759843,-6.177145470175162,-11.798482412969292,-6.8908898217073755,7.1210796359684,-2.6881096213003843,-3.692703374930076,0.09630550706012286,-16.664435368243105,6.164689244623105,2.6201082246568035,-5.88557967923937,-14.748215039312868,0.4394568391520437,6.875659362398395,-3.726241554289814,-9.525173447262262,-13.153491086222914,-9.266261231492479,10.608736283192002,2.1530537381094064,6.790304075879007,11.441129586860939,-3.295318352154794,15.548594910497187,0.18676464423921857,-5.6323572788255944,-6.089398218122923,0.5987389930786833,-4.834911814592942,19.085609212440353,0.06449428127714896,8.63811855526977,-4.786579863203698,4.900575307999105,17.097710474649844,-14.94040997489077,3.5750810589235016,-19.47422843756263,2.8389908645890785,5.106867566218426,6.466105244795784,-11.367400865855728,0.5102134237417459,3.541149613937563,-9.421606402552328,8.07326852117697,-15.256316770535648,23.96031294157487,8.53480455664328,-19.514151045929466,20.293108311966947,-8.837020814874265,-2.696219560946588,-6.114014565358161,3.970444616041277,1.4030689936209768,2.055550124689489,2.646369585051019,22.281349827825437,-7.281582435433052,11.339061480584846,6.750435641317722,2.708075923275942,4.918714651160599,3.61821261941018,3.5663453261376503,6.497238891926116,3.7067795916610606,-6.876507736034924,-11.39368079891831,-12.48469928049731,9.717387901742029,-7.256525444691988,6.559068131601293,-15.219188886692649,8.758190002111292,1.705787039712476,14.473338065194895,-7.362458220255121,4.916627483609574,1.4833420957888634,-3.47794586549432,-0.9531442413924225,-13.072801250272136,-22.063055049848572,-12.565712654137187,-12.417305830792458,-8.602885906212833,11.95215151137704,-1.404211609422461,7.0340909590664324,-6.55539023458347,-9.415746716822625,-2.718539924895353,7.450524358207119,-10.490473167431276,-9.116603289154568,13.972072196890721,3.494631761639596,-9.005268673352916,-17.902585439671157,8.027186211434653,-1.309083295363635,5.299952973968843,3.003025737657211,9.793105653935953,8.245507500782281,-2.8928685163403145,12.849111024181312,8.23509634518912,9.328271763603723,-4.137400223520544,-10.054719786903505,-13.385762983845865,2.408772654537657,-23.538496411038295,0.32377913268841496,-6.877642910235529,-1.1071885699928288,-4.027976923212918,9.931778155692186,3.157976061677658,3.3917426301757416,-5.331748896696638,3.2771129121642133,6.313281657247558,-0.07543768211084512,4.7695405694065585,-2.480437995456967,8.114190722065729,6.402471787764327,-21.619079176565748,-4.333171231347805,18.37562244859656,5.475756932720728,33.397492416906005,-3.288614172196816,-1.4642566154166872,2.2970865619076903,1.70555732393521,-2.130022755775599,-1.2856790217525003,-5.13580631451434,-11.179145013123389,10.699779134434493,-18.87984521686947,1.0216476227829219,7.298703759781645,5.497133152265846,4.143667246300012,21.204898541200322,-0.9843214527635382,-8.400733820151245,-3.031649579626702,14.002685916779917,-1.363465530419603,-2.9783824278842417,19.036704098773015,19.010933907238964,4.687376132306596,-1.3741839778745373,-0.20893017386858048,-8.35551710510083,-0.05591259668328519,-12.64701117894218,-4.725011866907678,1.8915459594819595,-10.056196285226136,-16.026940038684344,-12.77343212962704,-20.62937765072043,-2.0492255172426326,-12.113339012838907,-3.3067321031289225,10.965065030517096,-4.943834240333061,12.823170792934135,0.22988343601393524,-7.813753067470941,4.962108035802714,9.946022205651232,-1.601215597850853,3.596360006369892,-0.1932440245929996,-7.685660269178825,-0.8061539386532104,5.7001704219737235,9.33940019283665,8.3551338285112,1.014742497780702,16.24080776707875,7.72489830696594,15.971779506284577,5.929953119325575,15.320685944731864,15.754071477754835,-5.308390083506509,-16.12276954434256,-5.405795160096076,1.7055677309845692,19.19663809517786,18.075143915454902,11.221276735594046,-3.9856776394764353,-6.873880967471138,3.4010720498489633,-0.37543361825925103,-11.553327221380329,0.7071141575128479,-0.4220265207966918,-10.223875739483034,-3.4143157595463833,-1.6469270434228775,-1.762779427640453,12.301400515656184,13.068590126467484,-11.331477607141267,-2.8090175081236737,-5.141542362286572,5.60776630066394,10.459415381589437,-11.430148399469473,-2.320189702335938,1.4685603303246069,10.787054756618815,2.3288585682491885,3.050335130893558,11.943478395302037,-11.928741155677372,-3.7972263611831636,8.72422837519531,-0.7826165066430235,12.237997718657866,-20.370105807675174,-15.045761058784052,-18.999904874838023,4.445127573588664,8.575117441869729,2.825850002912887,1.9831890855291192,3.0437532874535833,-4.166551166400097,-19.351441894223214,-8.78556903703435,-5.63588914026127,-5.3752126762089745,-0.17768265048597698,-3.007766273652777,-0.8405978335424749,-3.146168667274864,-5.56155211224015,0.7893364500423132,4.178989322192038,-1.1284434175492777,11.885427580435959,-1.2368191679348541,5.988357065607758,-1.0278229831799877,-1.4444057958478993,-4.842815950025056,4.284808590480097,18.99146267953214,13.336320199903426,-0.33618388021989176,5.712257371982034,-3.073497592039274,-1.0104057760833598,4.7499658865346674,-10.938116423959784,4.185197948816622,-1.5617654650518773,-12.587227667682,-4.1296470617973,-17.82554760615828,2.7399443361333766,5.412796263239059,11.275448409536509,-7.605073782986167,-9.611598490249008,1.0304088589131197,21.372232700411615,-15.730020710758325,-2.1822816826532403,9.785440238800035,5.20199029987171,15.058705257571162,9.210609245564001,5.86237821308228,-0.6481359042597461,9.46373841160053,0.8851482106960873,5.594712557209533,18.571537669367757,-0.39698749000714884,7.145769152459891,-18.168203710836863,-0.3402586807689829,-10.129888422621349,-7.984532810479493,8.728617653770286,-9.320025823525796,2.3372937808416907,5.8892369800511375,17.217227833312734,-9.355353868828246,-18.58343820183002,-4.0150594706088185,20.515118701919235,-3.303549868667446,2.6657183665342075,-5.622470815909509,-11.25218905362378,-8.585715056432377,20.342055382172646,0.30680235868939576,-6.99376597353816,-4.522984622386431,9.663345480592511,-10.606352057944662,-22.858126017194976,1.9301594766550352,-2.014130076024017,4.271464957682639,-1.1197536275858226,10.990430715399981,10.547733743290422,-4.235912547983077,16.322954149750146,-10.005669816223019,-10.741696346954313,15.417684055597348,7.950250589344151,6.01469451346388,-10.657514868153072,-4.626840397685747,-4.8389474287367165,-6.20225680760808,5.116655506256578,-16.33814548266622,3.3262481290125123,18.339277551605846,-15.744005637922712,-2.0298514348910572,-8.83764081640939,-5.791847531514335,-5.940475893309539,9.586344834276943,1.6738039201678276,-1.763521093453889,-15.485794360391779,4.108944449694889,-13.553170539190148,-16.74864968798304,0.7876281833860048,5.262238934188943,-11.360220282564086,-15.59852458679893,31.33158852746324,2.3556737759840587,9.581871050445898,0.9707803863933862,-9.27886857856413,-12.273615210368888,0.2015606346778469,6.205143815032088,-16.55356447294355,-2.236848287783687,2.595001740807419,0.36246796545363225,-9.038484476766712,16.958509915186625,-2.8379085807277704,-2.484841398990582,-10.222429329464255,-3.7823757059552605,2.7354752476696476,-8.36705337125538,-15.286231010012827,-3.6817196259252825,-1.6388288307107501,24.573104467214705,-21.36052240145483,11.952019405170134,-5.003542164035693,-0.7060409807342012,8.876385654403592,9.234142643648866,13.618525108628361,-5.317847388571252,-7.641983425487567,-18.04880485838092,-11.549439689272404,2.019575618341335,-13.897323798852653,-32.16027202350976,-5.676323965875127,1.7220407963562394,-0.8086788989033522,10.885063258869195,-0.3071548753478339,-0.16106902293871883,-3.8445488369141287,-9.167535717444721,-8.1371437329,-10.54709679176571,8.542997994470596,-9.120194702599804,-12.852643693403365,2.483743602012183,16.123253221653044,16.27170195105097,-0.16635688379781755,2.405656894380627,0.5772515574675765,4.472221913403104,-0.3809261752784039,7.3861115620922675,-2.6758447759653023,-17.47155041025448,9.311878405021673,-1.6270716400733534,-3.208251746366898,-0.576645435119076,6.852006793217299,8.984274554686522,-2.8413471833492423,6.677627726174947,-5.558162696200355,-8.276964732560018,-0.18705538138470956,4.806169806031193,-14.489645212156944,4.734346545379111,12.604090040291524,-3.3299360872214123,-14.386788300053468,0.7319231428813993,-19.03207716586033,3.285545990918102,5.73547807846856,6.9212242339051215,-13.973896693635822,3.606746553931373,2.829607140270056,10.55783853919263],\"xaxis\":\"x\",\"yaxis\":\"y\",\"type\":\"histogram\"}],                        {\"template\":{\"data\":{\"histogram2dcontour\":[{\"type\":\"histogram2dcontour\",\"colorbar\":{\"outlinewidth\":0,\"ticks\":\"\"},\"colorscale\":[[0.0,\"#0d0887\"],[0.1111111111111111,\"#46039f\"],[0.2222222222222222,\"#7201a8\"],[0.3333333333333333,\"#9c179e\"],[0.4444444444444444,\"#bd3786\"],[0.5555555555555556,\"#d8576b\"],[0.6666666666666666,\"#ed7953\"],[0.7777777777777778,\"#fb9f3a\"],[0.8888888888888888,\"#fdca26\"],[1.0,\"#f0f921\"]]}],\"choropleth\":[{\"type\":\"choropleth\",\"colorbar\":{\"outlinewidth\":0,\"ticks\":\"\"}}],\"histogram2d\":[{\"type\":\"histogram2d\",\"colorbar\":{\"outlinewidth\":0,\"ticks\":\"\"},\"colorscale\":[[0.0,\"#0d0887\"],[0.1111111111111111,\"#46039f\"],[0.2222222222222222,\"#7201a8\"],[0.3333333333333333,\"#9c179e\"],[0.4444444444444444,\"#bd3786\"],[0.5555555555555556,\"#d8576b\"],[0.6666666666666666,\"#ed7953\"],[0.7777777777777778,\"#fb9f3a\"],[0.8888888888888888,\"#fdca26\"],[1.0,\"#f0f921\"]]}],\"heatmap\":[{\"type\":\"heatmap\",\"colorbar\":{\"outlinewidth\":0,\"ticks\":\"\"},\"colorscale\":[[0.0,\"#0d0887\"],[0.1111111111111111,\"#46039f\"],[0.2222222222222222,\"#7201a8\"],[0.3333333333333333,\"#9c179e\"],[0.4444444444444444,\"#bd3786\"],[0.5555555555555556,\"#d8576b\"],[0.6666666666666666,\"#ed7953\"],[0.7777777777777778,\"#fb9f3a\"],[0.8888888888888888,\"#fdca26\"],[1.0,\"#f0f921\"]]}],\"heatmapgl\":[{\"type\":\"heatmapgl\",\"colorbar\":{\"outlinewidth\":0,\"ticks\":\"\"},\"colorscale\":[[0.0,\"#0d0887\"],[0.1111111111111111,\"#46039f\"],[0.2222222222222222,\"#7201a8\"],[0.3333333333333333,\"#9c179e\"],[0.4444444444444444,\"#bd3786\"],[0.5555555555555556,\"#d8576b\"],[0.6666666666666666,\"#ed7953\"],[0.7777777777777778,\"#fb9f3a\"],[0.8888888888888888,\"#fdca26\"],[1.0,\"#f0f921\"]]}],\"contourcarpet\":[{\"type\":\"contourcarpet\",\"colorbar\":{\"outlinewidth\":0,\"ticks\":\"\"}}],\"contour\":[{\"type\":\"contour\",\"colorbar\":{\"outlinewidth\":0,\"ticks\":\"\"},\"colorscale\":[[0.0,\"#0d0887\"],[0.1111111111111111,\"#46039f\"],[0.2222222222222222,\"#7201a8\"],[0.3333333333333333,\"#9c179e\"],[0.4444444444444444,\"#bd3786\"],[0.5555555555555556,\"#d8576b\"],[0.6666666666666666,\"#ed7953\"],[0.7777777777777778,\"#fb9f3a\"],[0.8888888888888888,\"#fdca26\"],[1.0,\"#f0f921\"]]}],\"surface\":[{\"type\":\"surface\",\"colorbar\":{\"outlinewidth\":0,\"ticks\":\"\"},\"colorscale\":[[0.0,\"#0d0887\"],[0.1111111111111111,\"#46039f\"],[0.2222222222222222,\"#7201a8\"],[0.3333333333333333,\"#9c179e\"],[0.4444444444444444,\"#bd3786\"],[0.5555555555555556,\"#d8576b\"],[0.6666666666666666,\"#ed7953\"],[0.7777777777777778,\"#fb9f3a\"],[0.8888888888888888,\"#fdca26\"],[1.0,\"#f0f921\"]]}],\"mesh3d\":[{\"type\":\"mesh3d\",\"colorbar\":{\"outlinewidth\":0,\"ticks\":\"\"}}],\"scatter\":[{\"fillpattern\":{\"fillmode\":\"overlay\",\"size\":10,\"solidity\":0.2},\"type\":\"scatter\"}],\"parcoords\":[{\"type\":\"parcoords\",\"line\":{\"colorbar\":{\"outlinewidth\":0,\"ticks\":\"\"}}}],\"scatterpolargl\":[{\"type\":\"scatterpolargl\",\"marker\":{\"colorbar\":{\"outlinewidth\":0,\"ticks\":\"\"}}}],\"bar\":[{\"error_x\":{\"color\":\"#2a3f5f\"},\"error_y\":{\"color\":\"#2a3f5f\"},\"marker\":{\"line\":{\"color\":\"#E5ECF6\",\"width\":0.5},\"pattern\":{\"fillmode\":\"overlay\",\"size\":10,\"solidity\":0.2}},\"type\":\"bar\"}],\"scattergeo\":[{\"type\":\"scattergeo\",\"marker\":{\"colorbar\":{\"outlinewidth\":0,\"ticks\":\"\"}}}],\"scatterpolar\":[{\"type\":\"scatterpolar\",\"marker\":{\"colorbar\":{\"outlinewidth\":0,\"ticks\":\"\"}}}],\"histogram\":[{\"marker\":{\"pattern\":{\"fillmode\":\"overlay\",\"size\":10,\"solidity\":0.2}},\"type\":\"histogram\"}],\"scattergl\":[{\"type\":\"scattergl\",\"marker\":{\"colorbar\":{\"outlinewidth\":0,\"ticks\":\"\"}}}],\"scatter3d\":[{\"type\":\"scatter3d\",\"line\":{\"colorbar\":{\"outlinewidth\":0,\"ticks\":\"\"}},\"marker\":{\"colorbar\":{\"outlinewidth\":0,\"ticks\":\"\"}}}],\"scattermapbox\":[{\"type\":\"scattermapbox\",\"marker\":{\"colorbar\":{\"outlinewidth\":0,\"ticks\":\"\"}}}],\"scatterternary\":[{\"type\":\"scatterternary\",\"marker\":{\"colorbar\":{\"outlinewidth\":0,\"ticks\":\"\"}}}],\"scattercarpet\":[{\"type\":\"scattercarpet\",\"marker\":{\"colorbar\":{\"outlinewidth\":0,\"ticks\":\"\"}}}],\"carpet\":[{\"aaxis\":{\"endlinecolor\":\"#2a3f5f\",\"gridcolor\":\"white\",\"linecolor\":\"white\",\"minorgridcolor\":\"white\",\"startlinecolor\":\"#2a3f5f\"},\"baxis\":{\"endlinecolor\":\"#2a3f5f\",\"gridcolor\":\"white\",\"linecolor\":\"white\",\"minorgridcolor\":\"white\",\"startlinecolor\":\"#2a3f5f\"},\"type\":\"carpet\"}],\"table\":[{\"cells\":{\"fill\":{\"color\":\"#EBF0F8\"},\"line\":{\"color\":\"white\"}},\"header\":{\"fill\":{\"color\":\"#C8D4E3\"},\"line\":{\"color\":\"white\"}},\"type\":\"table\"}],\"barpolar\":[{\"marker\":{\"line\":{\"color\":\"#E5ECF6\",\"width\":0.5},\"pattern\":{\"fillmode\":\"overlay\",\"size\":10,\"solidity\":0.2}},\"type\":\"barpolar\"}],\"pie\":[{\"automargin\":true,\"type\":\"pie\"}]},\"layout\":{\"autotypenumbers\":\"strict\",\"colorway\":[\"#636efa\",\"#EF553B\",\"#00cc96\",\"#ab63fa\",\"#FFA15A\",\"#19d3f3\",\"#FF6692\",\"#B6E880\",\"#FF97FF\",\"#FECB52\"],\"font\":{\"color\":\"#2a3f5f\"},\"hovermode\":\"closest\",\"hoverlabel\":{\"align\":\"left\"},\"paper_bgcolor\":\"white\",\"plot_bgcolor\":\"#E5ECF6\",\"polar\":{\"bgcolor\":\"#E5ECF6\",\"angularaxis\":{\"gridcolor\":\"white\",\"linecolor\":\"white\",\"ticks\":\"\"},\"radialaxis\":{\"gridcolor\":\"white\",\"linecolor\":\"white\",\"ticks\":\"\"}},\"ternary\":{\"bgcolor\":\"#E5ECF6\",\"aaxis\":{\"gridcolor\":\"white\",\"linecolor\":\"white\",\"ticks\":\"\"},\"baxis\":{\"gridcolor\":\"white\",\"linecolor\":\"white\",\"ticks\":\"\"},\"caxis\":{\"gridcolor\":\"white\",\"linecolor\":\"white\",\"ticks\":\"\"}},\"coloraxis\":{\"colorbar\":{\"outlinewidth\":0,\"ticks\":\"\"}},\"colorscale\":{\"sequential\":[[0.0,\"#0d0887\"],[0.1111111111111111,\"#46039f\"],[0.2222222222222222,\"#7201a8\"],[0.3333333333333333,\"#9c179e\"],[0.4444444444444444,\"#bd3786\"],[0.5555555555555556,\"#d8576b\"],[0.6666666666666666,\"#ed7953\"],[0.7777777777777778,\"#fb9f3a\"],[0.8888888888888888,\"#fdca26\"],[1.0,\"#f0f921\"]],\"sequentialminus\":[[0.0,\"#0d0887\"],[0.1111111111111111,\"#46039f\"],[0.2222222222222222,\"#7201a8\"],[0.3333333333333333,\"#9c179e\"],[0.4444444444444444,\"#bd3786\"],[0.5555555555555556,\"#d8576b\"],[0.6666666666666666,\"#ed7953\"],[0.7777777777777778,\"#fb9f3a\"],[0.8888888888888888,\"#fdca26\"],[1.0,\"#f0f921\"]],\"diverging\":[[0,\"#8e0152\"],[0.1,\"#c51b7d\"],[0.2,\"#de77ae\"],[0.3,\"#f1b6da\"],[0.4,\"#fde0ef\"],[0.5,\"#f7f7f7\"],[0.6,\"#e6f5d0\"],[0.7,\"#b8e186\"],[0.8,\"#7fbc41\"],[0.9,\"#4d9221\"],[1,\"#276419\"]]},\"xaxis\":{\"gridcolor\":\"white\",\"linecolor\":\"white\",\"ticks\":\"\",\"title\":{\"standoff\":15},\"zerolinecolor\":\"white\",\"automargin\":true,\"zerolinewidth\":2},\"yaxis\":{\"gridcolor\":\"white\",\"linecolor\":\"white\",\"ticks\":\"\",\"title\":{\"standoff\":15},\"zerolinecolor\":\"white\",\"automargin\":true,\"zerolinewidth\":2},\"scene\":{\"xaxis\":{\"backgroundcolor\":\"#E5ECF6\",\"gridcolor\":\"white\",\"linecolor\":\"white\",\"showbackground\":true,\"ticks\":\"\",\"zerolinecolor\":\"white\",\"gridwidth\":2},\"yaxis\":{\"backgroundcolor\":\"#E5ECF6\",\"gridcolor\":\"white\",\"linecolor\":\"white\",\"showbackground\":true,\"ticks\":\"\",\"zerolinecolor\":\"white\",\"gridwidth\":2},\"zaxis\":{\"backgroundcolor\":\"#E5ECF6\",\"gridcolor\":\"white\",\"linecolor\":\"white\",\"showbackground\":true,\"ticks\":\"\",\"zerolinecolor\":\"white\",\"gridwidth\":2}},\"shapedefaults\":{\"line\":{\"color\":\"#2a3f5f\"}},\"annotationdefaults\":{\"arrowcolor\":\"#2a3f5f\",\"arrowhead\":0,\"arrowwidth\":1},\"geo\":{\"bgcolor\":\"white\",\"landcolor\":\"#E5ECF6\",\"subunitcolor\":\"white\",\"showland\":true,\"showlakes\":true,\"lakecolor\":\"white\"},\"title\":{\"x\":0.05},\"mapbox\":{\"style\":\"light\"}}},\"xaxis\":{\"anchor\":\"y\",\"domain\":[0.0,1.0],\"title\":{\"text\":\"error\"}},\"yaxis\":{\"anchor\":\"x\",\"domain\":[0.0,1.0],\"title\":{\"text\":\"count\"}},\"legend\":{\"tracegroupgap\":0},\"margin\":{\"t\":60},\"barmode\":\"relative\",\"width\":800},                        {\"responsive\": true}                    ).then(function(){\n",
              "                            \n",
              "var gd = document.getElementById('cda975af-8b7f-4929-a962-f677ffa8ff9e');\n",
              "var x = new MutationObserver(function (mutations, observer) {{\n",
              "        var display = window.getComputedStyle(gd).display;\n",
              "        if (!display || display === 'none') {{\n",
              "            console.log([gd, 'removed!']);\n",
              "            Plotly.purge(gd);\n",
              "            observer.disconnect();\n",
              "        }}\n",
              "}});\n",
              "\n",
              "// Listen for the removal of the full notebook cells\n",
              "var notebookContainer = gd.closest('#notebook-container');\n",
              "if (notebookContainer) {{\n",
              "    x.observe(notebookContainer, {childList: true});\n",
              "}}\n",
              "\n",
              "// Listen for the clearing of the current output cell\n",
              "var outputEl = gd.closest('.output');\n",
              "if (outputEl) {{\n",
              "    x.observe(outputEl, {childList: true});\n",
              "}}\n",
              "\n",
              "                        })                };                            </script>        </div>\n",
              "</body>\n",
              "</html>"
            ]
          },
          "metadata": {}
        }
      ]
    },
    {
      "cell_type": "code",
      "source": [
        "#MAE\n",
        "def mean_absolute_error(y_true, y_pred):\n",
        "    return abs(y_true - y_pred).sum() / len(y_true)\n",
        "\n",
        "mean_absolute_error(y_true, y_pred)"
      ],
      "metadata": {
        "colab": {
          "base_uri": "https://localhost:8080/"
        },
        "id": "uXZ1YIkwtqZz",
        "outputId": "fd62bd51-ac5a-4441-ee82-e8c163b8b8b8"
      },
      "execution_count": 11,
      "outputs": [
        {
          "output_type": "execute_result",
          "data": {
            "text/plain": [
              "np.float64(8.13569362541321)"
            ]
          },
          "metadata": {},
          "execution_count": 11
        }
      ]
    },
    {
      "cell_type": "code",
      "source": [
        "from tensorflow.keras.losses import MeanAbsoluteError\n",
        "\n",
        "mae = MeanAbsoluteError()\n",
        "mae(y_true, y_pred)"
      ],
      "metadata": {
        "colab": {
          "base_uri": "https://localhost:8080/"
        },
        "id": "vtMIiZGwuLYp",
        "outputId": "f477245b-2489-44bd-9ea1-acca5b30a15b"
      },
      "execution_count": 15,
      "outputs": [
        {
          "output_type": "execute_result",
          "data": {
            "text/plain": [
              "<tf.Tensor: shape=(), dtype=float32, numpy=8.135692596435547>"
            ]
          },
          "metadata": {},
          "execution_count": 15
        }
      ]
    },
    {
      "cell_type": "code",
      "source": [
        "from sklearn.metrics import mean_absolute_error\n",
        "\n",
        "mae = mean_absolute_error(y_true, y_pred)\n",
        "mae"
      ],
      "metadata": {
        "colab": {
          "base_uri": "https://localhost:8080/"
        },
        "id": "LR2UNcEkuQq2",
        "outputId": "e51ea311-216f-49cf-9c93-9f0e975bff0d"
      },
      "execution_count": 17,
      "outputs": [
        {
          "output_type": "execute_result",
          "data": {
            "text/plain": [
              "8.13569362541321"
            ]
          },
          "metadata": {},
          "execution_count": 17
        }
      ]
    },
    {
      "cell_type": "code",
      "source": [
        "#MSE\n",
        "def mean_squared_error(y_true, y_pred):\n",
        "    return ((y_true - y_pred) ** 2).sum() / len(y_true)\n",
        "\n",
        "mean_squared_error(y_true, y_pred)"
      ],
      "metadata": {
        "colab": {
          "base_uri": "https://localhost:8080/"
        },
        "id": "gbFy0lDZu2mR",
        "outputId": "9e9457fd-6dc7-4705-a883-c08bb182c742"
      },
      "execution_count": 18,
      "outputs": [
        {
          "output_type": "execute_result",
          "data": {
            "text/plain": [
              "np.float64(104.0714611612149)"
            ]
          },
          "metadata": {},
          "execution_count": 18
        }
      ]
    },
    {
      "cell_type": "code",
      "source": [
        "from tensorflow.keras.losses import MeanSquaredError\n",
        "\n",
        "mse = MeanSquaredError()\n",
        "mse(y_true, y_pred)"
      ],
      "metadata": {
        "colab": {
          "base_uri": "https://localhost:8080/"
        },
        "id": "8lxPzgasu7e9",
        "outputId": "91f29c6e-d869-48ef-f720-514456f79abc"
      },
      "execution_count": 19,
      "outputs": [
        {
          "output_type": "execute_result",
          "data": {
            "text/plain": [
              "<tf.Tensor: shape=(), dtype=float32, numpy=104.07145690917969>"
            ]
          },
          "metadata": {},
          "execution_count": 19
        }
      ]
    },
    {
      "cell_type": "code",
      "source": [
        "from sklearn.metrics import mean_squared_error\n",
        "\n",
        "mse = mean_squared_error(y_true, y_pred)\n",
        "mse"
      ],
      "metadata": {
        "colab": {
          "base_uri": "https://localhost:8080/"
        },
        "id": "KiRMWLYtvCJz",
        "outputId": "89904da1-d64f-4d55-b2f1-aa579115e43d"
      },
      "execution_count": 20,
      "outputs": [
        {
          "output_type": "execute_result",
          "data": {
            "text/plain": [
              "104.0714611612149"
            ]
          },
          "metadata": {},
          "execution_count": 20
        }
      ]
    },
    {
      "cell_type": "code",
      "source": [
        "#rmse\n",
        "def root_mean_squared_error(y_true, y_pred):\n",
        "    return np.sqrt(mean_squared_error(y_true, y_pred))\n",
        "\n",
        "root_mean_squared_error(y_true, y_pred)"
      ],
      "metadata": {
        "colab": {
          "base_uri": "https://localhost:8080/"
        },
        "id": "VBGExg02vHFa",
        "outputId": "040033bf-5369-4ba1-9737-845f7817ca90"
      },
      "execution_count": 21,
      "outputs": [
        {
          "output_type": "execute_result",
          "data": {
            "text/plain": [
              "np.float64(10.201542097213288)"
            ]
          },
          "metadata": {},
          "execution_count": 21
        }
      ]
    },
    {
      "cell_type": "code",
      "source": [
        "np.sqrt(mean_squared_error(y_true, y_pred))"
      ],
      "metadata": {
        "colab": {
          "base_uri": "https://localhost:8080/"
        },
        "id": "Lsq-7oagvNCb",
        "outputId": "6c9a63fe-113a-4b82-cbf1-ba30da4eb7cf"
      },
      "execution_count": 24,
      "outputs": [
        {
          "output_type": "execute_result",
          "data": {
            "text/plain": [
              "np.float64(10.201542097213288)"
            ]
          },
          "metadata": {},
          "execution_count": 24
        }
      ]
    },
    {
      "cell_type": "code",
      "source": [
        "#max error\n",
        "def max_error(y_true, y_pred):\n",
        "    return abs(y_true - y_pred).max()\n",
        "\n",
        "max_error(y_true, y_pred)"
      ],
      "metadata": {
        "colab": {
          "base_uri": "https://localhost:8080/"
        },
        "id": "LkdHxKjCvcFN",
        "outputId": "4e096dcb-a0f2-466a-e9fa-77f31862b6c5"
      },
      "execution_count": 25,
      "outputs": [
        {
          "output_type": "execute_result",
          "data": {
            "text/plain": [
              "np.float64(33.397492416906005)"
            ]
          },
          "metadata": {},
          "execution_count": 25
        }
      ]
    },
    {
      "cell_type": "code",
      "source": [
        "from sklearn.metrics import max_error\n",
        "\n",
        "max_error(y_true, y_pred)"
      ],
      "metadata": {
        "colab": {
          "base_uri": "https://localhost:8080/"
        },
        "id": "Jb-fuSeWvm4g",
        "outputId": "821341ff-d3ae-4ce0-a496-4ccc2a3322e5"
      },
      "execution_count": 26,
      "outputs": [
        {
          "output_type": "execute_result",
          "data": {
            "text/plain": [
              "np.float64(33.397492416906005)"
            ]
          },
          "metadata": {},
          "execution_count": 26
        }
      ]
    },
    {
      "cell_type": "code",
      "source": [
        "#r2 score\n",
        "from sklearn.metrics import r2_score\n",
        "\n",
        "r2_score(y_true, y_pred)"
      ],
      "metadata": {
        "colab": {
          "base_uri": "https://localhost:8080/"
        },
        "id": "59jbvNIevoZ4",
        "outputId": "03dc5411-cca6-4ed2-ed15-e745909793ca"
      },
      "execution_count": 27,
      "outputs": [
        {
          "output_type": "execute_result",
          "data": {
            "text/plain": [
              "0.7377271952697311"
            ]
          },
          "metadata": {},
          "execution_count": 27
        }
      ]
    },
    {
      "cell_type": "code",
      "source": [
        "def r2_score(y_true, y_pred):\n",
        "  nominator = ((y_true - y_pred) ** 2).sum()\n",
        "  denominator = ((y_true - y_true.mean()) ** 2).sum()\n",
        "\n",
        "  try:\n",
        "    r2 = 1 - (nominator / denominator)\n",
        "  except ZeroDivisionError:\n",
        "    print('dzielenie przez zero matole')\n",
        "  return r2\n",
        "\n",
        "r2_score(y_true, y_pred)"
      ],
      "metadata": {
        "colab": {
          "base_uri": "https://localhost:8080/"
        },
        "id": "4_n2RfDrvzH6",
        "outputId": "e6451596-b507-4b31-cd77-69c62d32cbeb"
      },
      "execution_count": 28,
      "outputs": [
        {
          "output_type": "execute_result",
          "data": {
            "text/plain": [
              "np.float64(0.7377271952697311)"
            ]
          },
          "metadata": {},
          "execution_count": 28
        }
      ]
    }
  ]
}