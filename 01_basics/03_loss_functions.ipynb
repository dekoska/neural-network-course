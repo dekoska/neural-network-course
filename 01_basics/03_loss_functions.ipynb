{
  "nbformat": 4,
  "nbformat_minor": 0,
  "metadata": {
    "colab": {
      "provenance": [],
      "authorship_tag": "ABX9TyOblGHfw/Za3w1mD03NGaPZ",
      "include_colab_link": true
    },
    "kernelspec": {
      "name": "python3",
      "display_name": "Python 3"
    },
    "language_info": {
      "name": "python"
    }
  },
  "cells": [
    {
      "cell_type": "markdown",
      "metadata": {
        "id": "view-in-github",
        "colab_type": "text"
      },
      "source": [
        "<a href=\"https://colab.research.google.com/github/dekoska/neural-network-course/blob/main/02_basics%20/03_loss_functions.ipynb\" target=\"_parent\"><img src=\"https://colab.research.google.com/assets/colab-badge.svg\" alt=\"Open In Colab\"/></a>"
      ]
    },
    {
      "cell_type": "markdown",
      "source": [
        "### entropia rozkladu prawdopodobienstwa"
      ],
      "metadata": {
        "id": "9oj2E3088Xm-"
      }
    },
    {
      "cell_type": "code",
      "execution_count": 1,
      "metadata": {
        "colab": {
          "base_uri": "https://localhost:8080/"
        },
        "id": "_4FZcvMk6JBO",
        "outputId": "d0b27af0-9949-41b6-95c4-1ce75174ed26"
      },
      "outputs": [
        {
          "output_type": "execute_result",
          "data": {
            "text/plain": [
              "np.float64(1.5171063970610277)"
            ]
          },
          "metadata": {},
          "execution_count": 1
        }
      ],
      "source": [
        "import numpy as np\n",
        "np.set_printoptions(precision=6, suppress=True)\n",
        "\n",
        "def entropy(labels, base=None):\n",
        "  from math import log, e\n",
        "  n_labels = len(labels)\n",
        "\n",
        "  if n_labels <= 1:\n",
        "    return 0\n",
        "\n",
        "  value, counts = np.unique(labels, return_counts=True)\n",
        "  probs = counts / n_labels\n",
        "  n_classes = np.count_nonzero(probs)\n",
        "\n",
        "  if n_classes <= 1:\n",
        "    return 0\n",
        "\n",
        "  ent = 0.\n",
        "\n",
        "  base = e if base is None else base\n",
        "  for i in probs:\n",
        "    ent -= i * log(i, base)\n",
        "\n",
        "  return ent\n",
        "\n",
        "labels = [1,3,5,2,3,5,3,2,1,3,4,5]\n",
        "entropy(labels)"
      ]
    },
    {
      "cell_type": "code",
      "source": [
        "labels = [3,3,3,3,3,3,4]\n",
        "entropy(labels)"
      ],
      "metadata": {
        "colab": {
          "base_uri": "https://localhost:8080/"
        },
        "id": "ckAxkE-L759Q",
        "outputId": "a6beda4f-11ca-46e2-87b8-f3d5bd8fe103"
      },
      "execution_count": 3,
      "outputs": [
        {
          "output_type": "execute_result",
          "data": {
            "text/plain": [
              "np.float64(0.410116318288409)"
            ]
          },
          "metadata": {},
          "execution_count": 3
        }
      ]
    },
    {
      "cell_type": "markdown",
      "source": [
        "### binarna entropia krzyzowa - binary crossentopy"
      ],
      "metadata": {
        "id": "roY86L7-8cVb"
      }
    },
    {
      "cell_type": "code",
      "source": [
        "from tensorflow.keras.losses import binary_crossentropy\n",
        "\n",
        "y_true = np.array([1,0,1,1,0,1], dtype='float')\n",
        "y_pred = np.array([0,0,1,1,0,1], dtype='float')\n",
        "\n",
        "binary_crossentropy(y_true, y_pred)"
      ],
      "metadata": {
        "colab": {
          "base_uri": "https://localhost:8080/"
        },
        "id": "NBn_BIEY8Kjc",
        "outputId": "6f6ba655-7b3e-4639-b519-ed95f45ad9b7"
      },
      "execution_count": 5,
      "outputs": [
        {
          "output_type": "execute_result",
          "data": {
            "text/plain": [
              "<tf.Tensor: shape=(), dtype=float64, numpy=2.6863493584930573>"
            ]
          },
          "metadata": {},
          "execution_count": 5
        }
      ]
    },
    {
      "cell_type": "markdown",
      "source": [
        "### kategoryczna entropia krzyzowa - categorical crossentopy"
      ],
      "metadata": {
        "id": "0qiVKPdl8v5U"
      }
    },
    {
      "cell_type": "code",
      "source": [
        "from tensorflow.keras.losses import categorical_crossentropy\n",
        "\n",
        "y_true = np.array([0,0,1,1,2,0,1,1,2], dtype='float')\n",
        "y_pred = np.array([0,1,1,2,0,1,1,2,1], dtype='float')\n",
        "\n",
        "categorical_crossentropy(y_true, y_pred)"
      ],
      "metadata": {
        "colab": {
          "base_uri": "https://localhost:8080/"
        },
        "id": "IlutQK4z8zr-",
        "outputId": "b3e59460-9d04-4cdf-ee7b-db3b09b93adf"
      },
      "execution_count": 6,
      "outputs": [
        {
          "output_type": "execute_result",
          "data": {
            "text/plain": [
              "<tf.Tensor: shape=(), dtype=float64, numpy=44.03324440481406>"
            ]
          },
          "metadata": {},
          "execution_count": 6
        }
      ]
    }
  ]
}