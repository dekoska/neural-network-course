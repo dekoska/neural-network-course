{
  "nbformat": 4,
  "nbformat_minor": 0,
  "metadata": {
    "colab": {
      "provenance": [],
      "authorship_tag": "ABX9TyPzCmLIUdoUJ0QD9ptxdRYM",
      "include_colab_link": true
    },
    "kernelspec": {
      "name": "python3",
      "display_name": "Python 3"
    },
    "language_info": {
      "name": "python"
    }
  },
  "cells": [
    {
      "cell_type": "markdown",
      "metadata": {
        "id": "view-in-github",
        "colab_type": "text"
      },
      "source": [
        "<a href=\"https://colab.research.google.com/github/dekoska/neural-network-course/blob/main/02_keras%20/02_models_layers.ipynb\" target=\"_parent\"><img src=\"https://colab.research.google.com/assets/colab-badge.svg\" alt=\"Open In Colab\"/></a>"
      ]
    },
    {
      "cell_type": "code",
      "execution_count": 1,
      "metadata": {
        "id": "UshTMFV5Hta7"
      },
      "outputs": [],
      "source": [
        "import numpy as np\n",
        "import plotly.express as px\n",
        "\n",
        "import tensorflow as tf\n",
        "from tensorflow.keras.datasets.mnist import load_data\n",
        "from tensorflow.keras.models import Sequential\n",
        "from tensorflow.keras.layers import Flatten, Dense, Dropout"
      ]
    },
    {
      "cell_type": "code",
      "source": [
        "(X_train, y_train), (X_test, y_test) = load_data()\n",
        "\n",
        "X_train = X_train / 255.\n",
        "X_test = X_test / 255."
      ],
      "metadata": {
        "colab": {
          "base_uri": "https://localhost:8080/"
        },
        "id": "_CGu8BiOHzgo",
        "outputId": "eea0f732-43f7-4802-be19-7e33887ac65d"
      },
      "execution_count": 2,
      "outputs": [
        {
          "output_type": "stream",
          "name": "stdout",
          "text": [
            "Downloading data from https://storage.googleapis.com/tensorflow/tf-keras-datasets/mnist.npz\n",
            "\u001b[1m11490434/11490434\u001b[0m \u001b[32m━━━━━━━━━━━━━━━━━━━━\u001b[0m\u001b[37m\u001b[0m \u001b[1m0s\u001b[0m 0us/step\n"
          ]
        }
      ]
    },
    {
      "cell_type": "code",
      "source": [
        "model = Sequential()\n",
        "model.add(Flatten(input_shape=(28, 28)))\n",
        "model.add(Dense(units=128, activation='relu'))\n",
        "model.add(Dropout(0.2)) #regularyzacja zeby zapobiec przuczeniu modelu\n",
        "model.add(Dense(units=10, activation='softmax'))\n",
        "\n",
        "model.compile(optimizer='adam',\n",
        "              loss='categorical_crossentropy',\n",
        "              metrics=['accuracy'])\n",
        "\n",
        "model.summary()"
      ],
      "metadata": {
        "colab": {
          "base_uri": "https://localhost:8080/",
          "height": 265
        },
        "id": "0Zif4-_kH4DP",
        "outputId": "968e90ba-d271-48fb-acde-aa4f86ab1e2e"
      },
      "execution_count": 5,
      "outputs": [
        {
          "output_type": "display_data",
          "data": {
            "text/plain": [
              "\u001b[1mModel: \"sequential_2\"\u001b[0m\n"
            ],
            "text/html": [
              "<pre style=\"white-space:pre;overflow-x:auto;line-height:normal;font-family:Menlo,'DejaVu Sans Mono',consolas,'Courier New',monospace\"><span style=\"font-weight: bold\">Model: \"sequential_2\"</span>\n",
              "</pre>\n"
            ]
          },
          "metadata": {}
        },
        {
          "output_type": "display_data",
          "data": {
            "text/plain": [
              "┏━━━━━━━━━━━━━━━━━━━━━━━━━━━━━━━━━┳━━━━━━━━━━━━━━━━━━━━━━━━┳━━━━━━━━━━━━━━━┓\n",
              "┃\u001b[1m \u001b[0m\u001b[1mLayer (type)                   \u001b[0m\u001b[1m \u001b[0m┃\u001b[1m \u001b[0m\u001b[1mOutput Shape          \u001b[0m\u001b[1m \u001b[0m┃\u001b[1m \u001b[0m\u001b[1m      Param #\u001b[0m\u001b[1m \u001b[0m┃\n",
              "┡━━━━━━━━━━━━━━━━━━━━━━━━━━━━━━━━━╇━━━━━━━━━━━━━━━━━━━━━━━━╇━━━━━━━━━━━━━━━┩\n",
              "│ flatten_2 (\u001b[38;5;33mFlatten\u001b[0m)             │ (\u001b[38;5;45mNone\u001b[0m, \u001b[38;5;34m784\u001b[0m)            │             \u001b[38;5;34m0\u001b[0m │\n",
              "├─────────────────────────────────┼────────────────────────┼───────────────┤\n",
              "│ dense_4 (\u001b[38;5;33mDense\u001b[0m)                 │ (\u001b[38;5;45mNone\u001b[0m, \u001b[38;5;34m128\u001b[0m)            │       \u001b[38;5;34m100,480\u001b[0m │\n",
              "├─────────────────────────────────┼────────────────────────┼───────────────┤\n",
              "│ dropout_2 (\u001b[38;5;33mDropout\u001b[0m)             │ (\u001b[38;5;45mNone\u001b[0m, \u001b[38;5;34m128\u001b[0m)            │             \u001b[38;5;34m0\u001b[0m │\n",
              "├─────────────────────────────────┼────────────────────────┼───────────────┤\n",
              "│ dense_5 (\u001b[38;5;33mDense\u001b[0m)                 │ (\u001b[38;5;45mNone\u001b[0m, \u001b[38;5;34m10\u001b[0m)             │         \u001b[38;5;34m1,290\u001b[0m │\n",
              "└─────────────────────────────────┴────────────────────────┴───────────────┘\n"
            ],
            "text/html": [
              "<pre style=\"white-space:pre;overflow-x:auto;line-height:normal;font-family:Menlo,'DejaVu Sans Mono',consolas,'Courier New',monospace\">┏━━━━━━━━━━━━━━━━━━━━━━━━━━━━━━━━━┳━━━━━━━━━━━━━━━━━━━━━━━━┳━━━━━━━━━━━━━━━┓\n",
              "┃<span style=\"font-weight: bold\"> Layer (type)                    </span>┃<span style=\"font-weight: bold\"> Output Shape           </span>┃<span style=\"font-weight: bold\">       Param # </span>┃\n",
              "┡━━━━━━━━━━━━━━━━━━━━━━━━━━━━━━━━━╇━━━━━━━━━━━━━━━━━━━━━━━━╇━━━━━━━━━━━━━━━┩\n",
              "│ flatten_2 (<span style=\"color: #0087ff; text-decoration-color: #0087ff\">Flatten</span>)             │ (<span style=\"color: #00d7ff; text-decoration-color: #00d7ff\">None</span>, <span style=\"color: #00af00; text-decoration-color: #00af00\">784</span>)            │             <span style=\"color: #00af00; text-decoration-color: #00af00\">0</span> │\n",
              "├─────────────────────────────────┼────────────────────────┼───────────────┤\n",
              "│ dense_4 (<span style=\"color: #0087ff; text-decoration-color: #0087ff\">Dense</span>)                 │ (<span style=\"color: #00d7ff; text-decoration-color: #00d7ff\">None</span>, <span style=\"color: #00af00; text-decoration-color: #00af00\">128</span>)            │       <span style=\"color: #00af00; text-decoration-color: #00af00\">100,480</span> │\n",
              "├─────────────────────────────────┼────────────────────────┼───────────────┤\n",
              "│ dropout_2 (<span style=\"color: #0087ff; text-decoration-color: #0087ff\">Dropout</span>)             │ (<span style=\"color: #00d7ff; text-decoration-color: #00d7ff\">None</span>, <span style=\"color: #00af00; text-decoration-color: #00af00\">128</span>)            │             <span style=\"color: #00af00; text-decoration-color: #00af00\">0</span> │\n",
              "├─────────────────────────────────┼────────────────────────┼───────────────┤\n",
              "│ dense_5 (<span style=\"color: #0087ff; text-decoration-color: #0087ff\">Dense</span>)                 │ (<span style=\"color: #00d7ff; text-decoration-color: #00d7ff\">None</span>, <span style=\"color: #00af00; text-decoration-color: #00af00\">10</span>)             │         <span style=\"color: #00af00; text-decoration-color: #00af00\">1,290</span> │\n",
              "└─────────────────────────────────┴────────────────────────┴───────────────┘\n",
              "</pre>\n"
            ]
          },
          "metadata": {}
        },
        {
          "output_type": "display_data",
          "data": {
            "text/plain": [
              "\u001b[1m Total params: \u001b[0m\u001b[38;5;34m101,770\u001b[0m (397.54 KB)\n"
            ],
            "text/html": [
              "<pre style=\"white-space:pre;overflow-x:auto;line-height:normal;font-family:Menlo,'DejaVu Sans Mono',consolas,'Courier New',monospace\"><span style=\"font-weight: bold\"> Total params: </span><span style=\"color: #00af00; text-decoration-color: #00af00\">101,770</span> (397.54 KB)\n",
              "</pre>\n"
            ]
          },
          "metadata": {}
        },
        {
          "output_type": "display_data",
          "data": {
            "text/plain": [
              "\u001b[1m Trainable params: \u001b[0m\u001b[38;5;34m101,770\u001b[0m (397.54 KB)\n"
            ],
            "text/html": [
              "<pre style=\"white-space:pre;overflow-x:auto;line-height:normal;font-family:Menlo,'DejaVu Sans Mono',consolas,'Courier New',monospace\"><span style=\"font-weight: bold\"> Trainable params: </span><span style=\"color: #00af00; text-decoration-color: #00af00\">101,770</span> (397.54 KB)\n",
              "</pre>\n"
            ]
          },
          "metadata": {}
        },
        {
          "output_type": "display_data",
          "data": {
            "text/plain": [
              "\u001b[1m Non-trainable params: \u001b[0m\u001b[38;5;34m0\u001b[0m (0.00 B)\n"
            ],
            "text/html": [
              "<pre style=\"white-space:pre;overflow-x:auto;line-height:normal;font-family:Menlo,'DejaVu Sans Mono',consolas,'Courier New',monospace\"><span style=\"font-weight: bold\"> Non-trainable params: </span><span style=\"color: #00af00; text-decoration-color: #00af00\">0</span> (0.00 B)\n",
              "</pre>\n"
            ]
          },
          "metadata": {}
        }
      ]
    },
    {
      "cell_type": "code",
      "source": [],
      "metadata": {
        "id": "KnZEJWgwI_l5"
      },
      "execution_count": null,
      "outputs": []
    },
    {
      "cell_type": "code",
      "source": [
        "from tensorflow.keras.utils import to_categorical\n",
        "model.fit(X_train, to_categorical(y_train, num_classes=10), epochs=10, validation_split=0.2, batch_size=32)"
      ],
      "metadata": {
        "colab": {
          "base_uri": "https://localhost:8080/"
        },
        "id": "hg9N2anCI7YM",
        "outputId": "19d7233d-7b38-42e1-a65f-38eada6cd04f"
      },
      "execution_count": 6,
      "outputs": [
        {
          "output_type": "stream",
          "name": "stdout",
          "text": [
            "Epoch 1/10\n",
            "\u001b[1m1500/1500\u001b[0m \u001b[32m━━━━━━━━━━━━━━━━━━━━\u001b[0m\u001b[37m\u001b[0m \u001b[1m11s\u001b[0m 6ms/step - accuracy: 0.8391 - loss: 0.5483 - val_accuracy: 0.9557 - val_loss: 0.1586\n",
            "Epoch 2/10\n",
            "\u001b[1m1500/1500\u001b[0m \u001b[32m━━━━━━━━━━━━━━━━━━━━\u001b[0m\u001b[37m\u001b[0m \u001b[1m8s\u001b[0m 5ms/step - accuracy: 0.9496 - loss: 0.1722 - val_accuracy: 0.9640 - val_loss: 0.1225\n",
            "Epoch 3/10\n",
            "\u001b[1m1500/1500\u001b[0m \u001b[32m━━━━━━━━━━━━━━━━━━━━\u001b[0m\u001b[37m\u001b[0m \u001b[1m11s\u001b[0m 6ms/step - accuracy: 0.9633 - loss: 0.1213 - val_accuracy: 0.9697 - val_loss: 0.1000\n",
            "Epoch 4/10\n",
            "\u001b[1m1500/1500\u001b[0m \u001b[32m━━━━━━━━━━━━━━━━━━━━\u001b[0m\u001b[37m\u001b[0m \u001b[1m10s\u001b[0m 6ms/step - accuracy: 0.9707 - loss: 0.0986 - val_accuracy: 0.9716 - val_loss: 0.0936\n",
            "Epoch 5/10\n",
            "\u001b[1m1500/1500\u001b[0m \u001b[32m━━━━━━━━━━━━━━━━━━━━\u001b[0m\u001b[37m\u001b[0m \u001b[1m10s\u001b[0m 6ms/step - accuracy: 0.9748 - loss: 0.0817 - val_accuracy: 0.9734 - val_loss: 0.0875\n",
            "Epoch 6/10\n",
            "\u001b[1m1500/1500\u001b[0m \u001b[32m━━━━━━━━━━━━━━━━━━━━\u001b[0m\u001b[37m\u001b[0m \u001b[1m10s\u001b[0m 6ms/step - accuracy: 0.9787 - loss: 0.0691 - val_accuracy: 0.9737 - val_loss: 0.0880\n",
            "Epoch 7/10\n",
            "\u001b[1m1500/1500\u001b[0m \u001b[32m━━━━━━━━━━━━━━━━━━━━\u001b[0m\u001b[37m\u001b[0m \u001b[1m10s\u001b[0m 5ms/step - accuracy: 0.9803 - loss: 0.0598 - val_accuracy: 0.9755 - val_loss: 0.0784\n",
            "Epoch 8/10\n",
            "\u001b[1m1500/1500\u001b[0m \u001b[32m━━━━━━━━━━━━━━━━━━━━\u001b[0m\u001b[37m\u001b[0m \u001b[1m10s\u001b[0m 5ms/step - accuracy: 0.9821 - loss: 0.0549 - val_accuracy: 0.9749 - val_loss: 0.0877\n",
            "Epoch 9/10\n",
            "\u001b[1m1500/1500\u001b[0m \u001b[32m━━━━━━━━━━━━━━━━━━━━\u001b[0m\u001b[37m\u001b[0m \u001b[1m9s\u001b[0m 6ms/step - accuracy: 0.9838 - loss: 0.0522 - val_accuracy: 0.9779 - val_loss: 0.0795\n",
            "Epoch 10/10\n",
            "\u001b[1m1500/1500\u001b[0m \u001b[32m━━━━━━━━━━━━━━━━━━━━\u001b[0m\u001b[37m\u001b[0m \u001b[1m9s\u001b[0m 5ms/step - accuracy: 0.9854 - loss: 0.0455 - val_accuracy: 0.9768 - val_loss: 0.0807\n"
          ]
        },
        {
          "output_type": "execute_result",
          "data": {
            "text/plain": [
              "<keras.src.callbacks.history.History at 0x7c72980aa590>"
            ]
          },
          "metadata": {},
          "execution_count": 6
        }
      ]
    },
    {
      "cell_type": "code",
      "source": [
        "model.layers"
      ],
      "metadata": {
        "colab": {
          "base_uri": "https://localhost:8080/"
        },
        "id": "-8eZWD1zJ8Kw",
        "outputId": "4802b5c7-f551-49bc-a5f7-3d1b51274141"
      },
      "execution_count": 7,
      "outputs": [
        {
          "output_type": "execute_result",
          "data": {
            "text/plain": [
              "[<Flatten name=flatten_2, built=True>,\n",
              " <Dense name=dense_4, built=True>,\n",
              " <Dropout name=dropout_2, built=True>,\n",
              " <Dense name=dense_5, built=True>]"
            ]
          },
          "metadata": {},
          "execution_count": 7
        }
      ]
    },
    {
      "cell_type": "code",
      "source": [
        "model.inputs"
      ],
      "metadata": {
        "colab": {
          "base_uri": "https://localhost:8080/"
        },
        "id": "7anhB3x-J--L",
        "outputId": "733c4dc2-cfa9-4959-9751-84f4fdb5b7a7"
      },
      "execution_count": 8,
      "outputs": [
        {
          "output_type": "execute_result",
          "data": {
            "text/plain": [
              "[<KerasTensor shape=(None, 28, 28), dtype=float32, sparse=False, name=keras_tensor_22>]"
            ]
          },
          "metadata": {},
          "execution_count": 8
        }
      ]
    },
    {
      "cell_type": "code",
      "source": [
        "model.get_config()"
      ],
      "metadata": {
        "colab": {
          "base_uri": "https://localhost:8080/"
        },
        "collapsed": true,
        "id": "EwY1_xllKBcZ",
        "outputId": "955326d2-bcba-442d-80dc-4fb3e442e0a9"
      },
      "execution_count": 9,
      "outputs": [
        {
          "output_type": "execute_result",
          "data": {
            "text/plain": [
              "{'name': 'sequential_2',\n",
              " 'trainable': True,\n",
              " 'dtype': {'module': 'keras',\n",
              "  'class_name': 'DTypePolicy',\n",
              "  'config': {'name': 'float32'},\n",
              "  'registered_name': None},\n",
              " 'layers': [{'module': 'keras.layers',\n",
              "   'class_name': 'InputLayer',\n",
              "   'config': {'batch_shape': (None, 28, 28),\n",
              "    'dtype': 'float32',\n",
              "    'sparse': False,\n",
              "    'name': 'input_layer_2'},\n",
              "   'registered_name': None},\n",
              "  {'module': 'keras.layers',\n",
              "   'class_name': 'Flatten',\n",
              "   'config': {'name': 'flatten_2',\n",
              "    'trainable': True,\n",
              "    'dtype': {'module': 'keras',\n",
              "     'class_name': 'DTypePolicy',\n",
              "     'config': {'name': 'float32'},\n",
              "     'registered_name': None},\n",
              "    'data_format': 'channels_last'},\n",
              "   'registered_name': None,\n",
              "   'build_config': {'input_shape': (None, 28, 28)}},\n",
              "  {'module': 'keras.layers',\n",
              "   'class_name': 'Dense',\n",
              "   'config': {'name': 'dense_4',\n",
              "    'trainable': True,\n",
              "    'dtype': {'module': 'keras',\n",
              "     'class_name': 'DTypePolicy',\n",
              "     'config': {'name': 'float32'},\n",
              "     'registered_name': None},\n",
              "    'units': 128,\n",
              "    'activation': 'relu',\n",
              "    'use_bias': True,\n",
              "    'kernel_initializer': {'module': 'keras.initializers',\n",
              "     'class_name': 'GlorotUniform',\n",
              "     'config': {'seed': None},\n",
              "     'registered_name': None},\n",
              "    'bias_initializer': {'module': 'keras.initializers',\n",
              "     'class_name': 'Zeros',\n",
              "     'config': {},\n",
              "     'registered_name': None},\n",
              "    'kernel_regularizer': None,\n",
              "    'bias_regularizer': None,\n",
              "    'kernel_constraint': None,\n",
              "    'bias_constraint': None},\n",
              "   'registered_name': None,\n",
              "   'build_config': {'input_shape': (None, 784)}},\n",
              "  {'module': 'keras.layers',\n",
              "   'class_name': 'Dropout',\n",
              "   'config': {'name': 'dropout_2',\n",
              "    'trainable': True,\n",
              "    'dtype': {'module': 'keras',\n",
              "     'class_name': 'DTypePolicy',\n",
              "     'config': {'name': 'float32'},\n",
              "     'registered_name': None},\n",
              "    'rate': 0.2,\n",
              "    'seed': None,\n",
              "    'noise_shape': None},\n",
              "   'registered_name': None},\n",
              "  {'module': 'keras.layers',\n",
              "   'class_name': 'Dense',\n",
              "   'config': {'name': 'dense_5',\n",
              "    'trainable': True,\n",
              "    'dtype': {'module': 'keras',\n",
              "     'class_name': 'DTypePolicy',\n",
              "     'config': {'name': 'float32'},\n",
              "     'registered_name': None},\n",
              "    'units': 10,\n",
              "    'activation': 'softmax',\n",
              "    'use_bias': True,\n",
              "    'kernel_initializer': {'module': 'keras.initializers',\n",
              "     'class_name': 'GlorotUniform',\n",
              "     'config': {'seed': None},\n",
              "     'registered_name': None},\n",
              "    'bias_initializer': {'module': 'keras.initializers',\n",
              "     'class_name': 'Zeros',\n",
              "     'config': {},\n",
              "     'registered_name': None},\n",
              "    'kernel_regularizer': None,\n",
              "    'bias_regularizer': None,\n",
              "    'kernel_constraint': None,\n",
              "    'bias_constraint': None},\n",
              "   'registered_name': None,\n",
              "   'build_config': {'input_shape': (None, 128)}}],\n",
              " 'build_input_shape': (None, 28, 28)}"
            ]
          },
          "metadata": {},
          "execution_count": 9
        }
      ]
    },
    {
      "cell_type": "code",
      "source": [
        "model.get_weights()"
      ],
      "metadata": {
        "colab": {
          "base_uri": "https://localhost:8080/"
        },
        "collapsed": true,
        "id": "_q2rW92jKDl9",
        "outputId": "db951321-c37f-48c7-f812-d92fac2a1e4a"
      },
      "execution_count": 10,
      "outputs": [
        {
          "output_type": "execute_result",
          "data": {
            "text/plain": [
              "[array([[ 0.08108798, -0.00743765, -0.03489811, ..., -0.03474118,\n",
              "         -0.02750198, -0.02621531],\n",
              "        [ 0.01589248, -0.04621594,  0.05936193, ...,  0.02719611,\n",
              "         -0.0289394 ,  0.01519358],\n",
              "        [-0.07254063, -0.04552926,  0.07445969, ..., -0.03972234,\n",
              "          0.07811885,  0.05504488],\n",
              "        ...,\n",
              "        [-0.05129654,  0.07861122, -0.0494788 , ...,  0.06971384,\n",
              "          0.0810977 ,  0.06042366],\n",
              "        [ 0.00081627, -0.03179613,  0.04865987, ..., -0.07612922,\n",
              "         -0.0246063 ,  0.06651159],\n",
              "        [-0.04188384, -0.03951319,  0.00851585, ...,  0.07328852,\n",
              "         -0.02566695, -0.05504019]], dtype=float32),\n",
              " array([ 0.06286427, -0.10142177,  0.18261676, -0.26470685,  0.17943852,\n",
              "         0.17115913, -0.05549696,  0.12271663,  0.0898733 , -0.05029523,\n",
              "         0.19468617, -0.00973611,  0.04580298, -0.07473297,  0.07646304,\n",
              "         0.1424438 ,  0.0513567 ,  0.03659648, -0.20753331,  0.23108439,\n",
              "         0.13640743,  0.07368334, -0.0924775 , -0.0319028 ,  0.17873855,\n",
              "         0.0065357 , -0.08278818, -0.0380594 , -0.05985904, -0.06084219,\n",
              "         0.05803787,  0.00754565, -0.06805342, -0.04013014,  0.08798211,\n",
              "        -0.10022243,  0.3094446 , -0.02166756, -0.06019137, -0.09860826,\n",
              "         0.09044907,  0.2725681 , -0.07806952, -0.02478946,  0.02598153,\n",
              "         0.02071016, -0.00769214, -0.1527109 ,  0.03985088,  0.06432649,\n",
              "         0.1284279 ,  0.01411392, -0.1036463 ,  0.0094182 ,  0.23124647,\n",
              "        -0.06269351, -0.22420327, -0.04533108,  0.04805138, -0.1168253 ,\n",
              "        -0.1547835 ,  0.16909257, -0.11282671, -0.1380397 , -0.00746984,\n",
              "        -0.09495446, -0.0031882 ,  0.14307107,  0.03711938,  0.11456825,\n",
              "         0.04640121,  0.03687326, -0.06531162,  0.19336285, -0.20862688,\n",
              "        -0.19101547,  0.05939847,  0.09595983,  0.09727719,  0.00292784,\n",
              "        -0.03388483,  0.07378742, -0.02057564,  0.09381503, -0.15880968,\n",
              "         0.03964614,  0.11232547, -0.02089954,  0.10728503, -0.10650409,\n",
              "        -0.01632527,  0.01993806,  0.06423496, -0.05426867, -0.13199751,\n",
              "         0.07287671,  0.05964012,  0.05742755, -0.05750743,  0.13819025,\n",
              "         0.24835035,  0.01087553, -0.05328267, -0.10733205,  0.1451155 ,\n",
              "         0.2878217 , -0.08892566, -0.07907329,  0.02557818,  0.01146657,\n",
              "         0.27605137, -0.0158385 ,  0.00449134,  0.04202884, -0.01272967,\n",
              "        -0.0837977 ,  0.13119118,  0.15063335,  0.09125784, -0.01397856,\n",
              "         0.22015381,  0.00990843, -0.20470957,  0.04503858,  0.10031582,\n",
              "        -0.05417817, -0.10040578, -0.13094595], dtype=float32),\n",
              " array([[-0.8231001 ,  0.19507061, -0.03566088, ..., -0.5031682 ,\n",
              "         -0.32119057, -0.08843901],\n",
              "        [-0.3172751 ,  0.32984728,  0.22591713, ...,  0.22707723,\n",
              "         -0.01485016, -0.34041283],\n",
              "        [-0.07872651,  0.28757364, -0.83683795, ...,  0.14285344,\n",
              "         -0.5397764 ,  0.15500386],\n",
              "        ...,\n",
              "        [-0.7400913 ,  0.53493094, -0.24950294, ...,  0.26490512,\n",
              "          0.40341637, -0.18473029],\n",
              "        [-0.35877764,  0.2469319 , -0.3185848 , ..., -0.09806731,\n",
              "         -0.37889627, -0.3505512 ],\n",
              "        [-0.5404599 , -0.05523695,  0.1973136 , ..., -0.08854567,\n",
              "          0.2832221 ,  0.11396836]], dtype=float32),\n",
              " array([-0.04706139, -0.05969064, -0.16446209, -0.08770671,  0.10433131,\n",
              "        -0.02765359,  0.04304446, -0.10059003,  0.20694159,  0.07680538],\n",
              "       dtype=float32)]"
            ]
          },
          "metadata": {},
          "execution_count": 10
        }
      ]
    },
    {
      "cell_type": "code",
      "source": [
        "model.get_weights()[0].shape"
      ],
      "metadata": {
        "colab": {
          "base_uri": "https://localhost:8080/"
        },
        "id": "0zEP1tvlKIpX",
        "outputId": "b5cda22d-1ad2-4349-c25a-54b085ec24dc"
      },
      "execution_count": 11,
      "outputs": [
        {
          "output_type": "execute_result",
          "data": {
            "text/plain": [
              "(784, 128)"
            ]
          },
          "metadata": {},
          "execution_count": 11
        }
      ]
    },
    {
      "cell_type": "code",
      "source": [
        "model_json = model.to_json()\n",
        "\n",
        "import json\n",
        "parsed = json.loads(model_json)\n",
        "print(json.dumps(parsed, indent=4))"
      ],
      "metadata": {
        "colab": {
          "base_uri": "https://localhost:8080/"
        },
        "collapsed": true,
        "id": "kBCrtzrYSO8k",
        "outputId": "d3e37241-1f10-4d63-aa60-81111cf7b28f"
      },
      "execution_count": 12,
      "outputs": [
        {
          "output_type": "stream",
          "name": "stdout",
          "text": [
            "{\n",
            "    \"module\": \"keras\",\n",
            "    \"class_name\": \"Sequential\",\n",
            "    \"config\": {\n",
            "        \"name\": \"sequential_2\",\n",
            "        \"trainable\": true,\n",
            "        \"dtype\": {\n",
            "            \"module\": \"keras\",\n",
            "            \"class_name\": \"DTypePolicy\",\n",
            "            \"config\": {\n",
            "                \"name\": \"float32\"\n",
            "            },\n",
            "            \"registered_name\": null\n",
            "        },\n",
            "        \"layers\": [\n",
            "            {\n",
            "                \"module\": \"keras.layers\",\n",
            "                \"class_name\": \"InputLayer\",\n",
            "                \"config\": {\n",
            "                    \"batch_shape\": [\n",
            "                        null,\n",
            "                        28,\n",
            "                        28\n",
            "                    ],\n",
            "                    \"dtype\": \"float32\",\n",
            "                    \"sparse\": false,\n",
            "                    \"name\": \"input_layer_2\"\n",
            "                },\n",
            "                \"registered_name\": null\n",
            "            },\n",
            "            {\n",
            "                \"module\": \"keras.layers\",\n",
            "                \"class_name\": \"Flatten\",\n",
            "                \"config\": {\n",
            "                    \"name\": \"flatten_2\",\n",
            "                    \"trainable\": true,\n",
            "                    \"dtype\": {\n",
            "                        \"module\": \"keras\",\n",
            "                        \"class_name\": \"DTypePolicy\",\n",
            "                        \"config\": {\n",
            "                            \"name\": \"float32\"\n",
            "                        },\n",
            "                        \"registered_name\": null\n",
            "                    },\n",
            "                    \"data_format\": \"channels_last\"\n",
            "                },\n",
            "                \"registered_name\": null,\n",
            "                \"build_config\": {\n",
            "                    \"input_shape\": [\n",
            "                        null,\n",
            "                        28,\n",
            "                        28\n",
            "                    ]\n",
            "                }\n",
            "            },\n",
            "            {\n",
            "                \"module\": \"keras.layers\",\n",
            "                \"class_name\": \"Dense\",\n",
            "                \"config\": {\n",
            "                    \"name\": \"dense_4\",\n",
            "                    \"trainable\": true,\n",
            "                    \"dtype\": {\n",
            "                        \"module\": \"keras\",\n",
            "                        \"class_name\": \"DTypePolicy\",\n",
            "                        \"config\": {\n",
            "                            \"name\": \"float32\"\n",
            "                        },\n",
            "                        \"registered_name\": null\n",
            "                    },\n",
            "                    \"units\": 128,\n",
            "                    \"activation\": \"relu\",\n",
            "                    \"use_bias\": true,\n",
            "                    \"kernel_initializer\": {\n",
            "                        \"module\": \"keras.initializers\",\n",
            "                        \"class_name\": \"GlorotUniform\",\n",
            "                        \"config\": {\n",
            "                            \"seed\": null\n",
            "                        },\n",
            "                        \"registered_name\": null\n",
            "                    },\n",
            "                    \"bias_initializer\": {\n",
            "                        \"module\": \"keras.initializers\",\n",
            "                        \"class_name\": \"Zeros\",\n",
            "                        \"config\": {},\n",
            "                        \"registered_name\": null\n",
            "                    },\n",
            "                    \"kernel_regularizer\": null,\n",
            "                    \"bias_regularizer\": null,\n",
            "                    \"kernel_constraint\": null,\n",
            "                    \"bias_constraint\": null\n",
            "                },\n",
            "                \"registered_name\": null,\n",
            "                \"build_config\": {\n",
            "                    \"input_shape\": [\n",
            "                        null,\n",
            "                        784\n",
            "                    ]\n",
            "                }\n",
            "            },\n",
            "            {\n",
            "                \"module\": \"keras.layers\",\n",
            "                \"class_name\": \"Dropout\",\n",
            "                \"config\": {\n",
            "                    \"name\": \"dropout_2\",\n",
            "                    \"trainable\": true,\n",
            "                    \"dtype\": {\n",
            "                        \"module\": \"keras\",\n",
            "                        \"class_name\": \"DTypePolicy\",\n",
            "                        \"config\": {\n",
            "                            \"name\": \"float32\"\n",
            "                        },\n",
            "                        \"registered_name\": null\n",
            "                    },\n",
            "                    \"rate\": 0.2,\n",
            "                    \"seed\": null,\n",
            "                    \"noise_shape\": null\n",
            "                },\n",
            "                \"registered_name\": null\n",
            "            },\n",
            "            {\n",
            "                \"module\": \"keras.layers\",\n",
            "                \"class_name\": \"Dense\",\n",
            "                \"config\": {\n",
            "                    \"name\": \"dense_5\",\n",
            "                    \"trainable\": true,\n",
            "                    \"dtype\": {\n",
            "                        \"module\": \"keras\",\n",
            "                        \"class_name\": \"DTypePolicy\",\n",
            "                        \"config\": {\n",
            "                            \"name\": \"float32\"\n",
            "                        },\n",
            "                        \"registered_name\": null\n",
            "                    },\n",
            "                    \"units\": 10,\n",
            "                    \"activation\": \"softmax\",\n",
            "                    \"use_bias\": true,\n",
            "                    \"kernel_initializer\": {\n",
            "                        \"module\": \"keras.initializers\",\n",
            "                        \"class_name\": \"GlorotUniform\",\n",
            "                        \"config\": {\n",
            "                            \"seed\": null\n",
            "                        },\n",
            "                        \"registered_name\": null\n",
            "                    },\n",
            "                    \"bias_initializer\": {\n",
            "                        \"module\": \"keras.initializers\",\n",
            "                        \"class_name\": \"Zeros\",\n",
            "                        \"config\": {},\n",
            "                        \"registered_name\": null\n",
            "                    },\n",
            "                    \"kernel_regularizer\": null,\n",
            "                    \"bias_regularizer\": null,\n",
            "                    \"kernel_constraint\": null,\n",
            "                    \"bias_constraint\": null\n",
            "                },\n",
            "                \"registered_name\": null,\n",
            "                \"build_config\": {\n",
            "                    \"input_shape\": [\n",
            "                        null,\n",
            "                        128\n",
            "                    ]\n",
            "                }\n",
            "            }\n",
            "        ],\n",
            "        \"build_input_shape\": [\n",
            "            null,\n",
            "            28,\n",
            "            28\n",
            "        ]\n",
            "    },\n",
            "    \"registered_name\": null,\n",
            "    \"build_config\": {\n",
            "        \"input_shape\": [\n",
            "            null,\n",
            "            28,\n",
            "            28\n",
            "        ]\n",
            "    },\n",
            "    \"compile_config\": {\n",
            "        \"optimizer\": {\n",
            "            \"module\": \"keras.optimizers\",\n",
            "            \"class_name\": \"Adam\",\n",
            "            \"config\": {\n",
            "                \"name\": \"adam\",\n",
            "                \"learning_rate\": 0.0010000000474974513,\n",
            "                \"weight_decay\": null,\n",
            "                \"clipnorm\": null,\n",
            "                \"global_clipnorm\": null,\n",
            "                \"clipvalue\": null,\n",
            "                \"use_ema\": false,\n",
            "                \"ema_momentum\": 0.99,\n",
            "                \"ema_overwrite_frequency\": null,\n",
            "                \"loss_scale_factor\": null,\n",
            "                \"gradient_accumulation_steps\": null,\n",
            "                \"beta_1\": 0.9,\n",
            "                \"beta_2\": 0.999,\n",
            "                \"epsilon\": 1e-07,\n",
            "                \"amsgrad\": false\n",
            "            },\n",
            "            \"registered_name\": null\n",
            "        },\n",
            "        \"loss\": \"categorical_crossentropy\",\n",
            "        \"loss_weights\": null,\n",
            "        \"metrics\": [\n",
            "            \"accuracy\"\n",
            "        ],\n",
            "        \"weighted_metrics\": null,\n",
            "        \"run_eagerly\": false,\n",
            "        \"steps_per_execution\": 1,\n",
            "        \"jit_compile\": false\n",
            "    }\n",
            "}\n"
          ]
        }
      ]
    },
    {
      "cell_type": "code",
      "source": [
        "from tensorflow.keras.models import model_from_json\n",
        "\n",
        "model2 = model_from_json(model_json)\n",
        "model2.summary()"
      ],
      "metadata": {
        "colab": {
          "base_uri": "https://localhost:8080/",
          "height": 281
        },
        "id": "QnKR-gAOSnUL",
        "outputId": "fae43ded-bba3-4132-8e33-727030debb0e"
      },
      "execution_count": 13,
      "outputs": [
        {
          "output_type": "display_data",
          "data": {
            "text/plain": [
              "\u001b[1mModel: \"sequential_2\"\u001b[0m\n"
            ],
            "text/html": [
              "<pre style=\"white-space:pre;overflow-x:auto;line-height:normal;font-family:Menlo,'DejaVu Sans Mono',consolas,'Courier New',monospace\"><span style=\"font-weight: bold\">Model: \"sequential_2\"</span>\n",
              "</pre>\n"
            ]
          },
          "metadata": {}
        },
        {
          "output_type": "display_data",
          "data": {
            "text/plain": [
              "┏━━━━━━━━━━━━━━━━━━━━━━━━━━━━━━━━━┳━━━━━━━━━━━━━━━━━━━━━━━━┳━━━━━━━━━━━━━━━┓\n",
              "┃\u001b[1m \u001b[0m\u001b[1mLayer (type)                   \u001b[0m\u001b[1m \u001b[0m┃\u001b[1m \u001b[0m\u001b[1mOutput Shape          \u001b[0m\u001b[1m \u001b[0m┃\u001b[1m \u001b[0m\u001b[1m      Param #\u001b[0m\u001b[1m \u001b[0m┃\n",
              "┡━━━━━━━━━━━━━━━━━━━━━━━━━━━━━━━━━╇━━━━━━━━━━━━━━━━━━━━━━━━╇━━━━━━━━━━━━━━━┩\n",
              "│ flatten_2 (\u001b[38;5;33mFlatten\u001b[0m)             │ (\u001b[38;5;45mNone\u001b[0m, \u001b[38;5;34m784\u001b[0m)            │             \u001b[38;5;34m0\u001b[0m │\n",
              "├─────────────────────────────────┼────────────────────────┼───────────────┤\n",
              "│ dense_4 (\u001b[38;5;33mDense\u001b[0m)                 │ (\u001b[38;5;45mNone\u001b[0m, \u001b[38;5;34m128\u001b[0m)            │       \u001b[38;5;34m100,480\u001b[0m │\n",
              "├─────────────────────────────────┼────────────────────────┼───────────────┤\n",
              "│ dropout_2 (\u001b[38;5;33mDropout\u001b[0m)             │ (\u001b[38;5;45mNone\u001b[0m, \u001b[38;5;34m128\u001b[0m)            │             \u001b[38;5;34m0\u001b[0m │\n",
              "├─────────────────────────────────┼────────────────────────┼───────────────┤\n",
              "│ dense_5 (\u001b[38;5;33mDense\u001b[0m)                 │ (\u001b[38;5;45mNone\u001b[0m, \u001b[38;5;34m10\u001b[0m)             │         \u001b[38;5;34m1,290\u001b[0m │\n",
              "└─────────────────────────────────┴────────────────────────┴───────────────┘\n"
            ],
            "text/html": [
              "<pre style=\"white-space:pre;overflow-x:auto;line-height:normal;font-family:Menlo,'DejaVu Sans Mono',consolas,'Courier New',monospace\">┏━━━━━━━━━━━━━━━━━━━━━━━━━━━━━━━━━┳━━━━━━━━━━━━━━━━━━━━━━━━┳━━━━━━━━━━━━━━━┓\n",
              "┃<span style=\"font-weight: bold\"> Layer (type)                    </span>┃<span style=\"font-weight: bold\"> Output Shape           </span>┃<span style=\"font-weight: bold\">       Param # </span>┃\n",
              "┡━━━━━━━━━━━━━━━━━━━━━━━━━━━━━━━━━╇━━━━━━━━━━━━━━━━━━━━━━━━╇━━━━━━━━━━━━━━━┩\n",
              "│ flatten_2 (<span style=\"color: #0087ff; text-decoration-color: #0087ff\">Flatten</span>)             │ (<span style=\"color: #00d7ff; text-decoration-color: #00d7ff\">None</span>, <span style=\"color: #00af00; text-decoration-color: #00af00\">784</span>)            │             <span style=\"color: #00af00; text-decoration-color: #00af00\">0</span> │\n",
              "├─────────────────────────────────┼────────────────────────┼───────────────┤\n",
              "│ dense_4 (<span style=\"color: #0087ff; text-decoration-color: #0087ff\">Dense</span>)                 │ (<span style=\"color: #00d7ff; text-decoration-color: #00d7ff\">None</span>, <span style=\"color: #00af00; text-decoration-color: #00af00\">128</span>)            │       <span style=\"color: #00af00; text-decoration-color: #00af00\">100,480</span> │\n",
              "├─────────────────────────────────┼────────────────────────┼───────────────┤\n",
              "│ dropout_2 (<span style=\"color: #0087ff; text-decoration-color: #0087ff\">Dropout</span>)             │ (<span style=\"color: #00d7ff; text-decoration-color: #00d7ff\">None</span>, <span style=\"color: #00af00; text-decoration-color: #00af00\">128</span>)            │             <span style=\"color: #00af00; text-decoration-color: #00af00\">0</span> │\n",
              "├─────────────────────────────────┼────────────────────────┼───────────────┤\n",
              "│ dense_5 (<span style=\"color: #0087ff; text-decoration-color: #0087ff\">Dense</span>)                 │ (<span style=\"color: #00d7ff; text-decoration-color: #00d7ff\">None</span>, <span style=\"color: #00af00; text-decoration-color: #00af00\">10</span>)             │         <span style=\"color: #00af00; text-decoration-color: #00af00\">1,290</span> │\n",
              "└─────────────────────────────────┴────────────────────────┴───────────────┘\n",
              "</pre>\n"
            ]
          },
          "metadata": {}
        },
        {
          "output_type": "display_data",
          "data": {
            "text/plain": [
              "\u001b[1m Total params: \u001b[0m\u001b[38;5;34m305,312\u001b[0m (1.16 MB)\n"
            ],
            "text/html": [
              "<pre style=\"white-space:pre;overflow-x:auto;line-height:normal;font-family:Menlo,'DejaVu Sans Mono',consolas,'Courier New',monospace\"><span style=\"font-weight: bold\"> Total params: </span><span style=\"color: #00af00; text-decoration-color: #00af00\">305,312</span> (1.16 MB)\n",
              "</pre>\n"
            ]
          },
          "metadata": {}
        },
        {
          "output_type": "display_data",
          "data": {
            "text/plain": [
              "\u001b[1m Trainable params: \u001b[0m\u001b[38;5;34m101,770\u001b[0m (397.54 KB)\n"
            ],
            "text/html": [
              "<pre style=\"white-space:pre;overflow-x:auto;line-height:normal;font-family:Menlo,'DejaVu Sans Mono',consolas,'Courier New',monospace\"><span style=\"font-weight: bold\"> Trainable params: </span><span style=\"color: #00af00; text-decoration-color: #00af00\">101,770</span> (397.54 KB)\n",
              "</pre>\n"
            ]
          },
          "metadata": {}
        },
        {
          "output_type": "display_data",
          "data": {
            "text/plain": [
              "\u001b[1m Non-trainable params: \u001b[0m\u001b[38;5;34m0\u001b[0m (0.00 B)\n"
            ],
            "text/html": [
              "<pre style=\"white-space:pre;overflow-x:auto;line-height:normal;font-family:Menlo,'DejaVu Sans Mono',consolas,'Courier New',monospace\"><span style=\"font-weight: bold\"> Non-trainable params: </span><span style=\"color: #00af00; text-decoration-color: #00af00\">0</span> (0.00 B)\n",
              "</pre>\n"
            ]
          },
          "metadata": {}
        },
        {
          "output_type": "display_data",
          "data": {
            "text/plain": [
              "\u001b[1m Optimizer params: \u001b[0m\u001b[38;5;34m203,542\u001b[0m (795.09 KB)\n"
            ],
            "text/html": [
              "<pre style=\"white-space:pre;overflow-x:auto;line-height:normal;font-family:Menlo,'DejaVu Sans Mono',consolas,'Courier New',monospace\"><span style=\"font-weight: bold\"> Optimizer params: </span><span style=\"color: #00af00; text-decoration-color: #00af00\">203,542</span> (795.09 KB)\n",
              "</pre>\n"
            ]
          },
          "metadata": {}
        }
      ]
    },
    {
      "cell_type": "markdown",
      "source": [
        "###Warstwy\n",
        "\n",
        "Dense - warstwa gęsto połączona\\\n",
        "Activation - stosuje funkcję aktywacji\\\n",
        "Dropout - porzuca wskazaną część neuronów w warstwie\\\n",
        "Flatten - wypłaszcza dane wejściowe\\\n",
        "Input - warstwa wejściowa, parametr shape określa rozmiar danych wejściowych"
      ],
      "metadata": {
        "id": "PFuZgjQYTWBQ"
      }
    },
    {
      "cell_type": "code",
      "source": [
        "dense_layer = model.layers[1]\n",
        "dense_layer"
      ],
      "metadata": {
        "colab": {
          "base_uri": "https://localhost:8080/"
        },
        "id": "Ef_E7HE2StWl",
        "outputId": "49259b3f-51b4-45e0-f3d9-6b6661bf937e"
      },
      "execution_count": 15,
      "outputs": [
        {
          "output_type": "execute_result",
          "data": {
            "text/plain": [
              "<Dense name=dense_4, built=True>"
            ]
          },
          "metadata": {},
          "execution_count": 15
        }
      ]
    },
    {
      "cell_type": "code",
      "source": [
        "dense_layer.input"
      ],
      "metadata": {
        "colab": {
          "base_uri": "https://localhost:8080/"
        },
        "id": "r3w7S2vFTH-y",
        "outputId": "8a5efaeb-54fe-4ac7-8509-ed9348df4a51"
      },
      "execution_count": 16,
      "outputs": [
        {
          "output_type": "execute_result",
          "data": {
            "text/plain": [
              "<KerasTensor shape=(None, 784), dtype=float32, sparse=False, name=keras_tensor_24>"
            ]
          },
          "metadata": {},
          "execution_count": 16
        }
      ]
    },
    {
      "cell_type": "code",
      "source": [
        "dense_layer.output"
      ],
      "metadata": {
        "colab": {
          "base_uri": "https://localhost:8080/"
        },
        "id": "O-8B0AgtToBd",
        "outputId": "0364f84d-98ab-4e0d-9c04-13953572db52"
      },
      "execution_count": 17,
      "outputs": [
        {
          "output_type": "execute_result",
          "data": {
            "text/plain": [
              "<KerasTensor shape=(None, 128), dtype=float32, sparse=False, name=keras_tensor_25>"
            ]
          },
          "metadata": {},
          "execution_count": 17
        }
      ]
    },
    {
      "cell_type": "code",
      "source": [
        "dense_layer.trainable"
      ],
      "metadata": {
        "colab": {
          "base_uri": "https://localhost:8080/"
        },
        "id": "Q-M0bwP_Tpk4",
        "outputId": "a478828f-57a5-467d-891d-e79fb811404f"
      },
      "execution_count": 20,
      "outputs": [
        {
          "output_type": "execute_result",
          "data": {
            "text/plain": [
              "True"
            ]
          },
          "metadata": {},
          "execution_count": 20
        }
      ]
    },
    {
      "cell_type": "code",
      "source": [
        "dense =  Dense(2, 'relu')\n",
        "dense"
      ],
      "metadata": {
        "colab": {
          "base_uri": "https://localhost:8080/"
        },
        "id": "h1ql7Gq1UBov",
        "outputId": "7f23817d-9381-495f-ebc5-5b3f19b791a5"
      },
      "execution_count": 23,
      "outputs": [
        {
          "output_type": "execute_result",
          "data": {
            "text/plain": [
              "<Dense name=dense_7, built=False>"
            ]
          },
          "metadata": {},
          "execution_count": 23
        }
      ]
    },
    {
      "cell_type": "code",
      "source": [
        "from tensorflow.keras.layers import Activation\n",
        "\n",
        "activation = Activation('relu')\n",
        "activation"
      ],
      "metadata": {
        "colab": {
          "base_uri": "https://localhost:8080/"
        },
        "id": "V2q8xnQuYdyf",
        "outputId": "96ba755f-3739-4dce-ea41-70429389c386"
      },
      "execution_count": 24,
      "outputs": [
        {
          "output_type": "execute_result",
          "data": {
            "text/plain": [
              "<Activation name=activation, built=True>"
            ]
          },
          "metadata": {},
          "execution_count": 24
        }
      ]
    },
    {
      "cell_type": "code",
      "source": [
        "from tensorflow.keras.layers import Dropout\n",
        "\n",
        "dropout = Dropout(rate=0.3)\n",
        "dropout"
      ],
      "metadata": {
        "colab": {
          "base_uri": "https://localhost:8080/"
        },
        "id": "CXqZXO84Yrwp",
        "outputId": "9037845a-85ba-414e-f15a-a03e27508eef"
      },
      "execution_count": 25,
      "outputs": [
        {
          "output_type": "execute_result",
          "data": {
            "text/plain": [
              "<Dropout name=dropout_3, built=True>"
            ]
          },
          "metadata": {},
          "execution_count": 25
        }
      ]
    },
    {
      "cell_type": "code",
      "source": [
        "from tensorflow.keras.layers import Flatten\n",
        "\n",
        "flatten = Flatten()\n",
        "flatten"
      ],
      "metadata": {
        "colab": {
          "base_uri": "https://localhost:8080/"
        },
        "id": "dP9CyQoWY06E",
        "outputId": "052ae01e-500b-46a7-bf5a-01aa38fca966"
      },
      "execution_count": 26,
      "outputs": [
        {
          "output_type": "execute_result",
          "data": {
            "text/plain": [
              "<Flatten name=flatten_3, built=False>"
            ]
          },
          "metadata": {},
          "execution_count": 26
        }
      ]
    },
    {
      "cell_type": "code",
      "source": [
        "from tensorflow.keras.layers import Input\n",
        "\n",
        "input = Input(shape=(150,))\n",
        "input"
      ],
      "metadata": {
        "colab": {
          "base_uri": "https://localhost:8080/"
        },
        "id": "rOsMbRq7Y9et",
        "outputId": "7c7e075d-fb92-46c7-8966-a9c8b37034bc"
      },
      "execution_count": 27,
      "outputs": [
        {
          "output_type": "execute_result",
          "data": {
            "text/plain": [
              "<KerasTensor shape=(None, 150), dtype=float32, sparse=False, name=keras_tensor_43>"
            ]
          },
          "metadata": {},
          "execution_count": 27
        }
      ]
    }
  ]
}